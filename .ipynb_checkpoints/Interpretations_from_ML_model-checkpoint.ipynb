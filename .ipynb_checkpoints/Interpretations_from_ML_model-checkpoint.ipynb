{
 "cells": [
  {
   "cell_type": "code",
   "execution_count": 1,
   "id": "peripheral-retirement",
   "metadata": {},
   "outputs": [],
   "source": [
    "import numpy as np\n",
    "import pandas as pd\n",
    "import seaborn as sns\n",
    "import matplotlib.pyplot as plt"
   ]
  },
  {
   "cell_type": "code",
   "execution_count": 2,
   "id": "prostate-communist",
   "metadata": {},
   "outputs": [
    {
     "data": {
      "text/html": [
       "<div><div id=4c400d30-1fda-4fe9-ade8-d69ed7e8de8a style=\"display:none; background-color:#9D6CFF; color:white; width:200px; height:30px; padding-left:5px; border-radius:4px; flex-direction:row; justify-content:space-around; align-items:center;\" onmouseover=\"this.style.backgroundColor='#BA9BF8'\" onmouseout=\"this.style.backgroundColor='#9D6CFF'\" onclick=\"window.commands?.execute('create-mitosheet-from-dataframe-output');\">See Full Dataframe in Mito</div> <script> if (window.commands.hasCommand('create-mitosheet-from-dataframe-output')) document.getElementById('4c400d30-1fda-4fe9-ade8-d69ed7e8de8a').style.display = 'flex' </script> <table border=\"1\" class=\"dataframe\">\n",
       "  <thead>\n",
       "    <tr style=\"text-align: right;\">\n",
       "      <th></th>\n",
       "      <th>id</th>\n",
       "      <th>cons_12m</th>\n",
       "      <th>cons_gas_12m</th>\n",
       "      <th>date_activ</th>\n",
       "      <th>date_end</th>\n",
       "      <th>date_modif_prod</th>\n",
       "      <th>date_renewal</th>\n",
       "      <th>forecast_cons_12m</th>\n",
       "      <th>forecast_cons_year</th>\n",
       "      <th>forecast_meter_rent_12m</th>\n",
       "      <th>...</th>\n",
       "      <th>forecast_price_pow_p1</th>\n",
       "      <th>margin_gross_pow_ele</th>\n",
       "      <th>nb_prod_act</th>\n",
       "      <th>net_margin</th>\n",
       "      <th>num_years_antig</th>\n",
       "      <th>pow_max</th>\n",
       "      <th>churn</th>\n",
       "      <th>origin_up_lxidpiddsbxsbosboudacockeimpuepw</th>\n",
       "      <th>channel_sales_foosdfpfkusacimwkcsosbicdxkicaua</th>\n",
       "      <th>avg_price_pow_energy</th>\n",
       "    </tr>\n",
       "  </thead>\n",
       "  <tbody>\n",
       "    <tr>\n",
       "      <th>0</th>\n",
       "      <td>48ada52261e7cf58715202705a0451c9</td>\n",
       "      <td>309275</td>\n",
       "      <td>0</td>\n",
       "      <td>2012.11</td>\n",
       "      <td>2016.11</td>\n",
       "      <td>2012.11</td>\n",
       "      <td>2015.11</td>\n",
       "      <td>26520.30</td>\n",
       "      <td>10025</td>\n",
       "      <td>359.29</td>\n",
       "      <td>...</td>\n",
       "      <td>58.995952</td>\n",
       "      <td>-41.76</td>\n",
       "      <td>1</td>\n",
       "      <td>1732.36</td>\n",
       "      <td>3</td>\n",
       "      <td>180.000</td>\n",
       "      <td>0</td>\n",
       "      <td>0</td>\n",
       "      <td>0</td>\n",
       "      <td>34.637748</td>\n",
       "    </tr>\n",
       "    <tr>\n",
       "      <th>1</th>\n",
       "      <td>24011ae4ebbe3035111d65fa7c15bc57</td>\n",
       "      <td>0</td>\n",
       "      <td>54946</td>\n",
       "      <td>2013.06</td>\n",
       "      <td>2016.06</td>\n",
       "      <td>2013.11</td>\n",
       "      <td>2015.06</td>\n",
       "      <td>0.00</td>\n",
       "      <td>0</td>\n",
       "      <td>1.78</td>\n",
       "      <td>...</td>\n",
       "      <td>40.606701</td>\n",
       "      <td>25.44</td>\n",
       "      <td>2</td>\n",
       "      <td>678.99</td>\n",
       "      <td>3</td>\n",
       "      <td>43.648</td>\n",
       "      <td>1</td>\n",
       "      <td>1</td>\n",
       "      <td>1</td>\n",
       "      <td>27.192538</td>\n",
       "    </tr>\n",
       "    <tr>\n",
       "      <th>2</th>\n",
       "      <td>d29c2c54acc38ff3c0614d0a653813dd</td>\n",
       "      <td>4660</td>\n",
       "      <td>0</td>\n",
       "      <td>2009.08</td>\n",
       "      <td>2016.08</td>\n",
       "      <td>2009.08</td>\n",
       "      <td>2015.08</td>\n",
       "      <td>189.95</td>\n",
       "      <td>0</td>\n",
       "      <td>16.27</td>\n",
       "      <td>...</td>\n",
       "      <td>44.311378</td>\n",
       "      <td>16.38</td>\n",
       "      <td>1</td>\n",
       "      <td>18.89</td>\n",
       "      <td>6</td>\n",
       "      <td>13.800</td>\n",
       "      <td>0</td>\n",
       "      <td>0</td>\n",
       "      <td>0</td>\n",
       "      <td>14.821783</td>\n",
       "    </tr>\n",
       "    <tr>\n",
       "      <th>3</th>\n",
       "      <td>764c75f661154dac3a6c254cd082ea7d</td>\n",
       "      <td>544</td>\n",
       "      <td>0</td>\n",
       "      <td>2010.04</td>\n",
       "      <td>2016.04</td>\n",
       "      <td>2010.04</td>\n",
       "      <td>2015.04</td>\n",
       "      <td>47.96</td>\n",
       "      <td>0</td>\n",
       "      <td>38.72</td>\n",
       "      <td>...</td>\n",
       "      <td>44.311378</td>\n",
       "      <td>28.60</td>\n",
       "      <td>1</td>\n",
       "      <td>6.60</td>\n",
       "      <td>6</td>\n",
       "      <td>13.856</td>\n",
       "      <td>0</td>\n",
       "      <td>0</td>\n",
       "      <td>1</td>\n",
       "      <td>14.881461</td>\n",
       "    </tr>\n",
       "    <tr>\n",
       "      <th>4</th>\n",
       "      <td>bba03439a292a1e166f80264c16191cb</td>\n",
       "      <td>1584</td>\n",
       "      <td>0</td>\n",
       "      <td>2010.03</td>\n",
       "      <td>2016.03</td>\n",
       "      <td>2010.03</td>\n",
       "      <td>2015.03</td>\n",
       "      <td>240.04</td>\n",
       "      <td>0</td>\n",
       "      <td>19.83</td>\n",
       "      <td>...</td>\n",
       "      <td>44.311378</td>\n",
       "      <td>30.22</td>\n",
       "      <td>1</td>\n",
       "      <td>25.46</td>\n",
       "      <td>6</td>\n",
       "      <td>13.200</td>\n",
       "      <td>0</td>\n",
       "      <td>0</td>\n",
       "      <td>0</td>\n",
       "      <td>14.850492</td>\n",
       "    </tr>\n",
       "  </tbody>\n",
       "</table></div>"
      ],
      "text/plain": [
       "                                 id  cons_12m  cons_gas_12m  date_activ  \\\n",
       "0  48ada52261e7cf58715202705a0451c9    309275             0     2012.11   \n",
       "1  24011ae4ebbe3035111d65fa7c15bc57         0         54946     2013.06   \n",
       "2  d29c2c54acc38ff3c0614d0a653813dd      4660             0     2009.08   \n",
       "3  764c75f661154dac3a6c254cd082ea7d       544             0     2010.04   \n",
       "4  bba03439a292a1e166f80264c16191cb      1584             0     2010.03   \n",
       "\n",
       "   date_end  date_modif_prod  date_renewal  forecast_cons_12m  \\\n",
       "0   2016.11          2012.11       2015.11           26520.30   \n",
       "1   2016.06          2013.11       2015.06               0.00   \n",
       "2   2016.08          2009.08       2015.08             189.95   \n",
       "3   2016.04          2010.04       2015.04              47.96   \n",
       "4   2016.03          2010.03       2015.03             240.04   \n",
       "\n",
       "   forecast_cons_year  forecast_meter_rent_12m  ...  forecast_price_pow_p1  \\\n",
       "0               10025                   359.29  ...              58.995952   \n",
       "1                   0                     1.78  ...              40.606701   \n",
       "2                   0                    16.27  ...              44.311378   \n",
       "3                   0                    38.72  ...              44.311378   \n",
       "4                   0                    19.83  ...              44.311378   \n",
       "\n",
       "   margin_gross_pow_ele  nb_prod_act  net_margin  num_years_antig  pow_max  \\\n",
       "0                -41.76            1     1732.36                3  180.000   \n",
       "1                 25.44            2      678.99                3   43.648   \n",
       "2                 16.38            1       18.89                6   13.800   \n",
       "3                 28.60            1        6.60                6   13.856   \n",
       "4                 30.22            1       25.46                6   13.200   \n",
       "\n",
       "   churn  origin_up_lxidpiddsbxsbosboudacockeimpuepw  \\\n",
       "0      0                                           0   \n",
       "1      1                                           1   \n",
       "2      0                                           0   \n",
       "3      0                                           0   \n",
       "4      0                                           0   \n",
       "\n",
       "   channel_sales_foosdfpfkusacimwkcsosbicdxkicaua  avg_price_pow_energy  \n",
       "0                                               0             34.637748  \n",
       "1                                               1             27.192538  \n",
       "2                                               0             14.821783  \n",
       "3                                               1             14.881461  \n",
       "4                                               0             14.850492  \n",
       "\n",
       "[5 rows x 21 columns]"
      ]
     },
     "execution_count": 2,
     "metadata": {},
     "output_type": "execute_result"
    }
   ],
   "source": [
    "df=pd.read_csv('feature_selected_data.csv',index_col=0)\n",
    "df.head()      "
   ]
  },
  {
   "cell_type": "markdown",
   "id": "intimate-commissioner",
   "metadata": {},
   "source": [
    "###  \"df\" is the dataset on which feature engineering and feature selection is done."
   ]
  },
  {
   "cell_type": "code",
   "execution_count": 3,
   "id": "spiritual-roulette",
   "metadata": {},
   "outputs": [
    {
     "data": {
      "text/plain": [
       "(16094, 21)"
      ]
     },
     "execution_count": 3,
     "metadata": {},
     "output_type": "execute_result"
    }
   ],
   "source": [
    "df.shape"
   ]
  },
  {
   "cell_type": "code",
   "execution_count": null,
   "id": "controversial-roommate",
   "metadata": {},
   "outputs": [],
   "source": []
  },
  {
   "cell_type": "markdown",
   "id": "naked-compilation",
   "metadata": {},
   "source": [
    "## 'OverSampled_trainingData_ML_modelling.csv' is the oversampled training data, as the name suggests, it is used as training data for ML modelling. Oversampling is done because the original dataset is highly imbalanced."
   ]
  },
  {
   "cell_type": "code",
   "execution_count": 4,
   "id": "typical-paintball",
   "metadata": {},
   "outputs": [
    {
     "data": {
      "text/html": [
       "<div><div id=40bb31e9-8cca-4866-a92e-99d0de900347 style=\"display:none; background-color:#9D6CFF; color:white; width:200px; height:30px; padding-left:5px; border-radius:4px; flex-direction:row; justify-content:space-around; align-items:center;\" onmouseover=\"this.style.backgroundColor='#BA9BF8'\" onmouseout=\"this.style.backgroundColor='#9D6CFF'\" onclick=\"window.commands?.execute('create-mitosheet-from-dataframe-output');\">See Full Dataframe in Mito</div> <script> if (window.commands.hasCommand('create-mitosheet-from-dataframe-output')) document.getElementById('40bb31e9-8cca-4866-a92e-99d0de900347').style.display = 'flex' </script> <table border=\"1\" class=\"dataframe\">\n",
       "  <thead>\n",
       "    <tr style=\"text-align: right;\">\n",
       "      <th></th>\n",
       "      <th>cons_12m</th>\n",
       "      <th>cons_gas_12m</th>\n",
       "      <th>date_activ</th>\n",
       "      <th>date_end</th>\n",
       "      <th>date_modif_prod</th>\n",
       "      <th>date_renewal</th>\n",
       "      <th>forecast_cons_12m</th>\n",
       "      <th>forecast_cons_year</th>\n",
       "      <th>forecast_meter_rent_12m</th>\n",
       "      <th>forecast_price_energy_p1</th>\n",
       "      <th>forecast_price_pow_p1</th>\n",
       "      <th>margin_gross_pow_ele</th>\n",
       "      <th>nb_prod_act</th>\n",
       "      <th>net_margin</th>\n",
       "      <th>num_years_antig</th>\n",
       "      <th>pow_max</th>\n",
       "      <th>origin_up_lxidpiddsbxsbosboudacockeimpuepw</th>\n",
       "      <th>channel_sales_foosdfpfkusacimwkcsosbicdxkicaua</th>\n",
       "      <th>avg_price_pow_energy</th>\n",
       "      <th>churn</th>\n",
       "    </tr>\n",
       "  </thead>\n",
       "  <tbody>\n",
       "    <tr>\n",
       "      <th>2728</th>\n",
       "      <td>2256171</td>\n",
       "      <td>100121</td>\n",
       "      <td>2010.12</td>\n",
       "      <td>2016.12</td>\n",
       "      <td>2014.04</td>\n",
       "      <td>2015.12</td>\n",
       "      <td>2584.72</td>\n",
       "      <td>0</td>\n",
       "      <td>16.32</td>\n",
       "      <td>0.165022</td>\n",
       "      <td>44.311378</td>\n",
       "      <td>2.80</td>\n",
       "      <td>5</td>\n",
       "      <td>185.23</td>\n",
       "      <td>5</td>\n",
       "      <td>10.392</td>\n",
       "      <td>0</td>\n",
       "      <td>0</td>\n",
       "      <td>14.900191</td>\n",
       "      <td>0</td>\n",
       "    </tr>\n",
       "    <tr>\n",
       "      <th>2124</th>\n",
       "      <td>4323</td>\n",
       "      <td>0</td>\n",
       "      <td>2010.02</td>\n",
       "      <td>2016.02</td>\n",
       "      <td>2010.02</td>\n",
       "      <td>2015.02</td>\n",
       "      <td>653.96</td>\n",
       "      <td>574</td>\n",
       "      <td>17.56</td>\n",
       "      <td>0.146688</td>\n",
       "      <td>44.311378</td>\n",
       "      <td>33.12</td>\n",
       "      <td>1</td>\n",
       "      <td>61.88</td>\n",
       "      <td>6</td>\n",
       "      <td>13.200</td>\n",
       "      <td>0</td>\n",
       "      <td>0</td>\n",
       "      <td>14.805877</td>\n",
       "      <td>0</td>\n",
       "    </tr>\n",
       "    <tr>\n",
       "      <th>19351</th>\n",
       "      <td>292</td>\n",
       "      <td>0</td>\n",
       "      <td>2010.08</td>\n",
       "      <td>2016.08</td>\n",
       "      <td>2010.08</td>\n",
       "      <td>2015.08</td>\n",
       "      <td>43.71</td>\n",
       "      <td>0</td>\n",
       "      <td>16.40</td>\n",
       "      <td>0.145711</td>\n",
       "      <td>44.311378</td>\n",
       "      <td>12.36</td>\n",
       "      <td>1</td>\n",
       "      <td>5.97</td>\n",
       "      <td>5</td>\n",
       "      <td>10.392</td>\n",
       "      <td>0</td>\n",
       "      <td>0</td>\n",
       "      <td>14.827056</td>\n",
       "      <td>1</td>\n",
       "    </tr>\n",
       "    <tr>\n",
       "      <th>15568</th>\n",
       "      <td>17518</td>\n",
       "      <td>126033</td>\n",
       "      <td>2009.07</td>\n",
       "      <td>2016.07</td>\n",
       "      <td>2015.06</td>\n",
       "      <td>2015.07</td>\n",
       "      <td>290.53</td>\n",
       "      <td>183</td>\n",
       "      <td>132.14</td>\n",
       "      <td>0.114604</td>\n",
       "      <td>40.606701</td>\n",
       "      <td>26.79</td>\n",
       "      <td>2</td>\n",
       "      <td>30.83</td>\n",
       "      <td>7</td>\n",
       "      <td>19.800</td>\n",
       "      <td>0</td>\n",
       "      <td>1</td>\n",
       "      <td>27.188173</td>\n",
       "      <td>1</td>\n",
       "    </tr>\n",
       "    <tr>\n",
       "      <th>17039</th>\n",
       "      <td>8257</td>\n",
       "      <td>0</td>\n",
       "      <td>2012.10</td>\n",
       "      <td>2016.10</td>\n",
       "      <td>2015.08</td>\n",
       "      <td>2015.10</td>\n",
       "      <td>316.79</td>\n",
       "      <td>453</td>\n",
       "      <td>17.53</td>\n",
       "      <td>0.143460</td>\n",
       "      <td>46.305378</td>\n",
       "      <td>21.64</td>\n",
       "      <td>1</td>\n",
       "      <td>26.12</td>\n",
       "      <td>3</td>\n",
       "      <td>10.390</td>\n",
       "      <td>1</td>\n",
       "      <td>1</td>\n",
       "      <td>14.941206</td>\n",
       "      <td>1</td>\n",
       "    </tr>\n",
       "  </tbody>\n",
       "</table></div>"
      ],
      "text/plain": [
       "       cons_12m  cons_gas_12m  date_activ  date_end  date_modif_prod  \\\n",
       "2728    2256171        100121     2010.12   2016.12          2014.04   \n",
       "2124       4323             0     2010.02   2016.02          2010.02   \n",
       "19351       292             0     2010.08   2016.08          2010.08   \n",
       "15568     17518        126033     2009.07   2016.07          2015.06   \n",
       "17039      8257             0     2012.10   2016.10          2015.08   \n",
       "\n",
       "       date_renewal  forecast_cons_12m  forecast_cons_year  \\\n",
       "2728        2015.12            2584.72                   0   \n",
       "2124        2015.02             653.96                 574   \n",
       "19351       2015.08              43.71                   0   \n",
       "15568       2015.07             290.53                 183   \n",
       "17039       2015.10             316.79                 453   \n",
       "\n",
       "       forecast_meter_rent_12m  forecast_price_energy_p1  \\\n",
       "2728                     16.32                  0.165022   \n",
       "2124                     17.56                  0.146688   \n",
       "19351                    16.40                  0.145711   \n",
       "15568                   132.14                  0.114604   \n",
       "17039                    17.53                  0.143460   \n",
       "\n",
       "       forecast_price_pow_p1  margin_gross_pow_ele  nb_prod_act  net_margin  \\\n",
       "2728               44.311378                  2.80            5      185.23   \n",
       "2124               44.311378                 33.12            1       61.88   \n",
       "19351              44.311378                 12.36            1        5.97   \n",
       "15568              40.606701                 26.79            2       30.83   \n",
       "17039              46.305378                 21.64            1       26.12   \n",
       "\n",
       "       num_years_antig  pow_max  origin_up_lxidpiddsbxsbosboudacockeimpuepw  \\\n",
       "2728                 5   10.392                                           0   \n",
       "2124                 6   13.200                                           0   \n",
       "19351                5   10.392                                           0   \n",
       "15568                7   19.800                                           0   \n",
       "17039                3   10.390                                           1   \n",
       "\n",
       "       channel_sales_foosdfpfkusacimwkcsosbicdxkicaua  avg_price_pow_energy  \\\n",
       "2728                                                0             14.900191   \n",
       "2124                                                0             14.805877   \n",
       "19351                                               0             14.827056   \n",
       "15568                                               1             27.188173   \n",
       "17039                                               1             14.941206   \n",
       "\n",
       "       churn  \n",
       "2728       0  \n",
       "2124       0  \n",
       "19351      1  \n",
       "15568      1  \n",
       "17039      1  "
      ]
     },
     "execution_count": 4,
     "metadata": {},
     "output_type": "execute_result"
    }
   ],
   "source": [
    "df_train=pd.read_csv('OverSampled_trainingData_ML_modelling.csv',index_col=0)\n",
    "df_train.head()"
   ]
  },
  {
   "cell_type": "markdown",
   "id": "dedicated-database",
   "metadata": {},
   "source": [
    "## 'OverSampled_testData_ML_modelling.csv' is the oversampled test data, used as test data for ML_modelling. Oversampling is done because the original dataset is highly imbalanced."
   ]
  },
  {
   "cell_type": "code",
   "execution_count": 5,
   "id": "useful-technology",
   "metadata": {},
   "outputs": [
    {
     "data": {
      "text/html": [
       "<div><div id=d3284246-5ac6-4fa0-b345-b671fb74bca4 style=\"display:none; background-color:#9D6CFF; color:white; width:200px; height:30px; padding-left:5px; border-radius:4px; flex-direction:row; justify-content:space-around; align-items:center;\" onmouseover=\"this.style.backgroundColor='#BA9BF8'\" onmouseout=\"this.style.backgroundColor='#9D6CFF'\" onclick=\"window.commands?.execute('create-mitosheet-from-dataframe-output');\">See Full Dataframe in Mito</div> <script> if (window.commands.hasCommand('create-mitosheet-from-dataframe-output')) document.getElementById('d3284246-5ac6-4fa0-b345-b671fb74bca4').style.display = 'flex' </script> <table border=\"1\" class=\"dataframe\">\n",
       "  <thead>\n",
       "    <tr style=\"text-align: right;\">\n",
       "      <th></th>\n",
       "      <th>cons_12m</th>\n",
       "      <th>cons_gas_12m</th>\n",
       "      <th>date_activ</th>\n",
       "      <th>date_end</th>\n",
       "      <th>date_modif_prod</th>\n",
       "      <th>date_renewal</th>\n",
       "      <th>forecast_cons_12m</th>\n",
       "      <th>forecast_cons_year</th>\n",
       "      <th>forecast_meter_rent_12m</th>\n",
       "      <th>forecast_price_energy_p1</th>\n",
       "      <th>forecast_price_pow_p1</th>\n",
       "      <th>margin_gross_pow_ele</th>\n",
       "      <th>nb_prod_act</th>\n",
       "      <th>net_margin</th>\n",
       "      <th>num_years_antig</th>\n",
       "      <th>pow_max</th>\n",
       "      <th>origin_up_lxidpiddsbxsbosboudacockeimpuepw</th>\n",
       "      <th>channel_sales_foosdfpfkusacimwkcsosbicdxkicaua</th>\n",
       "      <th>avg_price_pow_energy</th>\n",
       "      <th>churn</th>\n",
       "    </tr>\n",
       "  </thead>\n",
       "  <tbody>\n",
       "    <tr>\n",
       "      <th>10412</th>\n",
       "      <td>17708</td>\n",
       "      <td>0</td>\n",
       "      <td>2009.08</td>\n",
       "      <td>2016.08</td>\n",
       "      <td>2009.08</td>\n",
       "      <td>2015.08</td>\n",
       "      <td>1120.20</td>\n",
       "      <td>0</td>\n",
       "      <td>16.53</td>\n",
       "      <td>0.144902</td>\n",
       "      <td>44.311378</td>\n",
       "      <td>15.72</td>\n",
       "      <td>2</td>\n",
       "      <td>103.12</td>\n",
       "      <td>6</td>\n",
       "      <td>13.200</td>\n",
       "      <td>0</td>\n",
       "      <td>0</td>\n",
       "      <td>14.824963</td>\n",
       "      <td>0</td>\n",
       "    </tr>\n",
       "    <tr>\n",
       "      <th>10393</th>\n",
       "      <td>621281</td>\n",
       "      <td>0</td>\n",
       "      <td>2011.12</td>\n",
       "      <td>2016.05</td>\n",
       "      <td>2015.05</td>\n",
       "      <td>2013.12</td>\n",
       "      <td>19792.95</td>\n",
       "      <td>16677</td>\n",
       "      <td>137.54</td>\n",
       "      <td>0.109505</td>\n",
       "      <td>40.606701</td>\n",
       "      <td>-1.50</td>\n",
       "      <td>1</td>\n",
       "      <td>-4148.99</td>\n",
       "      <td>4</td>\n",
       "      <td>24.249</td>\n",
       "      <td>1</td>\n",
       "      <td>1</td>\n",
       "      <td>27.147522</td>\n",
       "      <td>0</td>\n",
       "    </tr>\n",
       "    <tr>\n",
       "      <th>2090</th>\n",
       "      <td>7099</td>\n",
       "      <td>1713</td>\n",
       "      <td>2009.06</td>\n",
       "      <td>2016.06</td>\n",
       "      <td>2009.06</td>\n",
       "      <td>2015.06</td>\n",
       "      <td>1057.84</td>\n",
       "      <td>1451</td>\n",
       "      <td>17.15</td>\n",
       "      <td>0.144902</td>\n",
       "      <td>44.311378</td>\n",
       "      <td>33.12</td>\n",
       "      <td>2</td>\n",
       "      <td>99.88</td>\n",
       "      <td>7</td>\n",
       "      <td>13.200</td>\n",
       "      <td>0</td>\n",
       "      <td>0</td>\n",
       "      <td>14.834897</td>\n",
       "      <td>1</td>\n",
       "    </tr>\n",
       "    <tr>\n",
       "      <th>7698</th>\n",
       "      <td>3677</td>\n",
       "      <td>0</td>\n",
       "      <td>2011.12</td>\n",
       "      <td>2016.12</td>\n",
       "      <td>2015.11</td>\n",
       "      <td>2015.12</td>\n",
       "      <td>383.81</td>\n",
       "      <td>707</td>\n",
       "      <td>16.28</td>\n",
       "      <td>0.163618</td>\n",
       "      <td>45.806878</td>\n",
       "      <td>20.50</td>\n",
       "      <td>1</td>\n",
       "      <td>32.57</td>\n",
       "      <td>4</td>\n",
       "      <td>13.164</td>\n",
       "      <td>1</td>\n",
       "      <td>0</td>\n",
       "      <td>14.856134</td>\n",
       "      <td>0</td>\n",
       "    </tr>\n",
       "    <tr>\n",
       "      <th>4008</th>\n",
       "      <td>14297</td>\n",
       "      <td>0</td>\n",
       "      <td>2010.12</td>\n",
       "      <td>2016.05</td>\n",
       "      <td>2015.05</td>\n",
       "      <td>2015.01</td>\n",
       "      <td>1807.23</td>\n",
       "      <td>3109</td>\n",
       "      <td>146.62</td>\n",
       "      <td>0.161936</td>\n",
       "      <td>41.105201</td>\n",
       "      <td>87.21</td>\n",
       "      <td>2</td>\n",
       "      <td>95.20</td>\n",
       "      <td>5</td>\n",
       "      <td>29.700</td>\n",
       "      <td>0</td>\n",
       "      <td>0</td>\n",
       "      <td>27.499350</td>\n",
       "      <td>1</td>\n",
       "    </tr>\n",
       "  </tbody>\n",
       "</table></div>"
      ],
      "text/plain": [
       "       cons_12m  cons_gas_12m  date_activ  date_end  date_modif_prod  \\\n",
       "10412     17708             0     2009.08   2016.08          2009.08   \n",
       "10393    621281             0     2011.12   2016.05          2015.05   \n",
       "2090       7099          1713     2009.06   2016.06          2009.06   \n",
       "7698       3677             0     2011.12   2016.12          2015.11   \n",
       "4008      14297             0     2010.12   2016.05          2015.05   \n",
       "\n",
       "       date_renewal  forecast_cons_12m  forecast_cons_year  \\\n",
       "10412       2015.08            1120.20                   0   \n",
       "10393       2013.12           19792.95               16677   \n",
       "2090        2015.06            1057.84                1451   \n",
       "7698        2015.12             383.81                 707   \n",
       "4008        2015.01            1807.23                3109   \n",
       "\n",
       "       forecast_meter_rent_12m  forecast_price_energy_p1  \\\n",
       "10412                    16.53                  0.144902   \n",
       "10393                   137.54                  0.109505   \n",
       "2090                     17.15                  0.144902   \n",
       "7698                     16.28                  0.163618   \n",
       "4008                    146.62                  0.161936   \n",
       "\n",
       "       forecast_price_pow_p1  margin_gross_pow_ele  nb_prod_act  net_margin  \\\n",
       "10412              44.311378                 15.72            2      103.12   \n",
       "10393              40.606701                 -1.50            1    -4148.99   \n",
       "2090               44.311378                 33.12            2       99.88   \n",
       "7698               45.806878                 20.50            1       32.57   \n",
       "4008               41.105201                 87.21            2       95.20   \n",
       "\n",
       "       num_years_antig  pow_max  origin_up_lxidpiddsbxsbosboudacockeimpuepw  \\\n",
       "10412                6   13.200                                           0   \n",
       "10393                4   24.249                                           1   \n",
       "2090                 7   13.200                                           0   \n",
       "7698                 4   13.164                                           1   \n",
       "4008                 5   29.700                                           0   \n",
       "\n",
       "       channel_sales_foosdfpfkusacimwkcsosbicdxkicaua  avg_price_pow_energy  \\\n",
       "10412                                               0             14.824963   \n",
       "10393                                               1             27.147522   \n",
       "2090                                                0             14.834897   \n",
       "7698                                                0             14.856134   \n",
       "4008                                                0             27.499350   \n",
       "\n",
       "       churn  \n",
       "10412      0  \n",
       "10393      0  \n",
       "2090       1  \n",
       "7698       0  \n",
       "4008       1  "
      ]
     },
     "execution_count": 5,
     "metadata": {},
     "output_type": "execute_result"
    }
   ],
   "source": [
    "df_test=pd.read_csv('OverSampled_testData_ML_modelling.csv',index_col=0)\n",
    "df_test.head()"
   ]
  },
  {
   "cell_type": "code",
   "execution_count": 6,
   "id": "hungarian-pillow",
   "metadata": {},
   "outputs": [],
   "source": [
    "model=pd.read_pickle('final_model.pkl')"
   ]
  },
  {
   "cell_type": "code",
   "execution_count": null,
   "id": "express-forty",
   "metadata": {},
   "outputs": [],
   "source": []
  },
  {
   "cell_type": "code",
   "execution_count": null,
   "id": "surprising-christianity",
   "metadata": {},
   "outputs": [],
   "source": []
  },
  {
   "cell_type": "code",
   "execution_count": 7,
   "id": "incredible-security",
   "metadata": {},
   "outputs": [],
   "source": [
    "X_train=df_train.drop('churn',axis=1)\n",
    "y_train=df_train.churn\n",
    "X_test=df_test.drop('churn',axis=1)\n",
    "y_test=df_test.churn"
   ]
  },
  {
   "cell_type": "code",
   "execution_count": null,
   "id": "global-consent",
   "metadata": {},
   "outputs": [],
   "source": []
  },
  {
   "cell_type": "code",
   "execution_count": 8,
   "id": "separated-founder",
   "metadata": {},
   "outputs": [],
   "source": [
    "from sklearn.metrics import accuracy_score\n",
    "from sklearn.metrics import precision_score\n",
    "from sklearn.metrics import recall_score\n",
    "from sklearn.metrics import confusion_matrix"
   ]
  },
  {
   "cell_type": "code",
   "execution_count": 9,
   "id": "harmful-accreditation",
   "metadata": {},
   "outputs": [],
   "source": [
    "y_pred=model.predict(X_test)"
   ]
  },
  {
   "cell_type": "code",
   "execution_count": 10,
   "id": "civil-yukon",
   "metadata": {},
   "outputs": [
    {
     "data": {
      "text/plain": [
       "(0.85669910954649, 0.31095406360424027, 0.3682008368200837)"
      ]
     },
     "execution_count": 10,
     "metadata": {},
     "output_type": "execute_result"
    }
   ],
   "source": [
    "accuracy_score(y_test,y_pred),precision_score(y_test,y_pred),recall_score(y_test,y_pred)"
   ]
  },
  {
   "cell_type": "code",
   "execution_count": 11,
   "id": "buried-anxiety",
   "metadata": {},
   "outputs": [
    {
     "data": {
      "text/plain": [
       "array([[3961,  390],\n",
       "       [ 302,  176]], dtype=int64)"
      ]
     },
     "execution_count": 11,
     "metadata": {},
     "output_type": "execute_result"
    }
   ],
   "source": [
    "confusion_matrix(y_test,y_pred)"
   ]
  },
  {
   "cell_type": "code",
   "execution_count": null,
   "id": "pointed-chemical",
   "metadata": {},
   "outputs": [],
   "source": []
  },
  {
   "cell_type": "code",
   "execution_count": null,
   "id": "sophisticated-medicaid",
   "metadata": {},
   "outputs": [],
   "source": []
  },
  {
   "cell_type": "markdown",
   "id": "enclosed-posting",
   "metadata": {},
   "source": [
    "## We will only provide discount to clients that are likely to churn."
   ]
  },
  {
   "cell_type": "markdown",
   "id": "intellectual-organic",
   "metadata": {},
   "source": [
    "## Here we are first using the model to make predictions on test data, then the observations on which the model predicts 1 correctly, i.e the True_Positives, are then transformed into X_true_positives (features) and y_true_positives (churn). The \"avg_price_pow_energy\" and \"net margin\" features in X_true_positives are decreased by 20%. Now again we feed the modified X_true_positives into our model for predictions and we check that how many number of observations are now predicted as 'not churned' . This way we can find out that how much is the effect of giving 20% discount to the clients."
   ]
  },
  {
   "cell_type": "code",
   "execution_count": 12,
   "id": "southwest-exploration",
   "metadata": {},
   "outputs": [
    {
     "data": {
      "text/plain": [
       "numpy.ndarray"
      ]
     },
     "execution_count": 12,
     "metadata": {},
     "output_type": "execute_result"
    }
   ],
   "source": [
    "type(y_pred)"
   ]
  },
  {
   "cell_type": "code",
   "execution_count": 13,
   "id": "certified-schedule",
   "metadata": {},
   "outputs": [],
   "source": [
    "y_pred=pd.Series(y_pred,index=y_test.index,name='churn')"
   ]
  },
  {
   "cell_type": "code",
   "execution_count": 14,
   "id": "worth-violation",
   "metadata": {},
   "outputs": [],
   "source": [
    "y_true_positives=y_pred[(y_pred==1) & (y_test==1)]"
   ]
  },
  {
   "cell_type": "code",
   "execution_count": 15,
   "id": "loved-recording",
   "metadata": {},
   "outputs": [],
   "source": [
    "X_true_positives=X_test[(y_pred==1) & (y_test==1)]"
   ]
  },
  {
   "cell_type": "code",
   "execution_count": 16,
   "id": "productive-rental",
   "metadata": {},
   "outputs": [
    {
     "name": "stderr",
     "output_type": "stream",
     "text": [
      "<ipython-input-16-3b4b5577b743>:1: SettingWithCopyWarning: \n",
      "A value is trying to be set on a copy of a slice from a DataFrame.\n",
      "Try using .loc[row_indexer,col_indexer] = value instead\n",
      "\n",
      "See the caveats in the documentation: https://pandas.pydata.org/pandas-docs/stable/user_guide/indexing.html#returning-a-view-versus-a-copy\n",
      "  X_true_positives['net_margin']=X_true_positives.net_margin*0.8\n",
      "<ipython-input-16-3b4b5577b743>:2: SettingWithCopyWarning: \n",
      "A value is trying to be set on a copy of a slice from a DataFrame.\n",
      "Try using .loc[row_indexer,col_indexer] = value instead\n",
      "\n",
      "See the caveats in the documentation: https://pandas.pydata.org/pandas-docs/stable/user_guide/indexing.html#returning-a-view-versus-a-copy\n",
      "  X_true_positives['avg_price_pow_energy']=X_true_positives.avg_price_pow_energy*0.8\n"
     ]
    }
   ],
   "source": [
    "X_true_positives['net_margin']=X_true_positives.net_margin*0.8\n",
    "X_true_positives['avg_price_pow_energy']=X_true_positives.avg_price_pow_energy*0.8"
   ]
  },
  {
   "cell_type": "code",
   "execution_count": 17,
   "id": "chubby-wales",
   "metadata": {},
   "outputs": [
    {
     "data": {
      "text/plain": [
       "2090       79.904\n",
       "15820      17.592\n",
       "1042       27.056\n",
       "15858      73.872\n",
       "9508      736.272\n",
       "           ...   \n",
       "15757      37.848\n",
       "10757      39.032\n",
       "1020       73.536\n",
       "10700     241.104\n",
       "15735    2722.616\n",
       "Name: net_margin, Length: 176, dtype: float64"
      ]
     },
     "execution_count": 17,
     "metadata": {},
     "output_type": "execute_result"
    }
   ],
   "source": [
    "X_true_positives['net_margin']"
   ]
  },
  {
   "cell_type": "code",
   "execution_count": 18,
   "id": "provincial-eleven",
   "metadata": {},
   "outputs": [
    {
     "data": {
      "text/plain": [
       "2090       99.88\n",
       "15820      21.99\n",
       "1042       33.82\n",
       "15858      92.34\n",
       "9508      920.34\n",
       "          ...   \n",
       "15757      47.31\n",
       "10757      48.79\n",
       "1020       91.92\n",
       "10700     301.38\n",
       "15735    3403.27\n",
       "Name: net_margin, Length: 176, dtype: float64"
      ]
     },
     "execution_count": 18,
     "metadata": {},
     "output_type": "execute_result"
    }
   ],
   "source": [
    "X_test[(y_pred==1) & (y_test==1)].net_margin"
   ]
  },
  {
   "cell_type": "code",
   "execution_count": 19,
   "id": "processed-involvement",
   "metadata": {},
   "outputs": [
    {
     "data": {
      "text/plain": [
       "0.6477272727272727"
      ]
     },
     "execution_count": 19,
     "metadata": {},
     "output_type": "execute_result"
    }
   ],
   "source": [
    "model.predict(X_true_positives).mean()"
   ]
  },
  {
   "cell_type": "markdown",
   "id": "bound-volunteer",
   "metadata": {},
   "source": [
    "## We can see that after giving a 20% discount to the customers that are highly likely to churn, approx 36% percent of those customers are shifted to the category of 'not likely to churn' ."
   ]
  },
  {
   "cell_type": "code",
   "execution_count": null,
   "id": "controversial-hawaii",
   "metadata": {},
   "outputs": [],
   "source": []
  },
  {
   "cell_type": "code",
   "execution_count": null,
   "id": "coated-dining",
   "metadata": {},
   "outputs": [],
   "source": []
  },
  {
   "cell_type": "code",
   "execution_count": null,
   "id": "satisfactory-deadline",
   "metadata": {},
   "outputs": [],
   "source": []
  },
  {
   "cell_type": "markdown",
   "id": "national-error",
   "metadata": {},
   "source": [
    "## Here we are first taking out all observations where the value of churn==1. Then we feed all that observations to our model for predictions. We saw that our model correctly identifies 75% of all observations that have churn==1. We then decrease the value of \"avg_price_pow_energy\" and \"net_margin\" by 20%, of those 75% observations. Then we feed those modified 75% observations again to our model for predictions. We saw that out of that 75% observations(1207 in count) 455 observations were shifted into the category of 'not churn' by our model, after we provided a 20% discount.\n",
    "\n",
    "## Here also we saw that approx 37% of observations to whom we provided discount, got shifted to the category of 'not churn' by our model. So we can say that on an avg approx 36.5% of clients that are highly likely to churn, DO NOT CHURN after we provide them with a 20% discount."
   ]
  },
  {
   "cell_type": "code",
   "execution_count": 20,
   "id": "enhanced-restoration",
   "metadata": {},
   "outputs": [],
   "source": [
    "y_1s=df.churn[df.churn==1]\n",
    "X_1s=df[df.churn==1].drop(['id','churn'],axis=1)"
   ]
  },
  {
   "cell_type": "code",
   "execution_count": 21,
   "id": "psychological-glucose",
   "metadata": {},
   "outputs": [
    {
     "data": {
      "text/plain": [
       "1207"
      ]
     },
     "execution_count": 21,
     "metadata": {},
     "output_type": "execute_result"
    }
   ],
   "source": [
    "model.predict(X_1s).sum()"
   ]
  },
  {
   "cell_type": "code",
   "execution_count": 22,
   "id": "married-dallas",
   "metadata": {},
   "outputs": [
    {
     "data": {
      "text/plain": [
       "0.7572145545796738"
      ]
     },
     "execution_count": 22,
     "metadata": {},
     "output_type": "execute_result"
    }
   ],
   "source": [
    "model.predict(X_1s).mean()"
   ]
  },
  {
   "cell_type": "code",
   "execution_count": 23,
   "id": "greenhouse-period",
   "metadata": {},
   "outputs": [],
   "source": [
    "y_prediction=model.predict(X_1s)"
   ]
  },
  {
   "cell_type": "code",
   "execution_count": 24,
   "id": "dutch-sunrise",
   "metadata": {},
   "outputs": [],
   "source": [
    "y_prediction=pd.Series(y_prediction,index=y_1s.index,name='churn')"
   ]
  },
  {
   "cell_type": "code",
   "execution_count": 25,
   "id": "interim-exchange",
   "metadata": {},
   "outputs": [
    {
     "data": {
      "text/plain": [
       "1207"
      ]
     },
     "execution_count": 25,
     "metadata": {},
     "output_type": "execute_result"
    }
   ],
   "source": [
    "y_identified=y_1s[(y_prediction==1)&(y_1s==1)]\n",
    "y_identified.count()"
   ]
  },
  {
   "cell_type": "code",
   "execution_count": 26,
   "id": "reverse-syndication",
   "metadata": {},
   "outputs": [
    {
     "data": {
      "text/plain": [
       "cons_12m                                          1207\n",
       "cons_gas_12m                                      1207\n",
       "date_activ                                        1207\n",
       "date_end                                          1207\n",
       "date_modif_prod                                   1207\n",
       "date_renewal                                      1207\n",
       "forecast_cons_12m                                 1207\n",
       "forecast_cons_year                                1207\n",
       "forecast_meter_rent_12m                           1207\n",
       "forecast_price_energy_p1                          1207\n",
       "forecast_price_pow_p1                             1207\n",
       "margin_gross_pow_ele                              1207\n",
       "nb_prod_act                                       1207\n",
       "net_margin                                        1207\n",
       "num_years_antig                                   1207\n",
       "pow_max                                           1207\n",
       "origin_up_lxidpiddsbxsbosboudacockeimpuepw        1207\n",
       "channel_sales_foosdfpfkusacimwkcsosbicdxkicaua    1207\n",
       "avg_price_pow_energy                              1207\n",
       "dtype: int64"
      ]
     },
     "execution_count": 26,
     "metadata": {},
     "output_type": "execute_result"
    }
   ],
   "source": [
    "X_identified=X_1s[(y_prediction==1)&(y_1s==1)]\n",
    "X_identified.count()"
   ]
  },
  {
   "cell_type": "code",
   "execution_count": 27,
   "id": "loving-chester",
   "metadata": {},
   "outputs": [
    {
     "name": "stderr",
     "output_type": "stream",
     "text": [
      "<ipython-input-27-dc7fd5066a59>:1: SettingWithCopyWarning: \n",
      "A value is trying to be set on a copy of a slice from a DataFrame.\n",
      "Try using .loc[row_indexer,col_indexer] = value instead\n",
      "\n",
      "See the caveats in the documentation: https://pandas.pydata.org/pandas-docs/stable/user_guide/indexing.html#returning-a-view-versus-a-copy\n",
      "  X_identified['net_margin']=X_identified.net_margin*0.8\n",
      "<ipython-input-27-dc7fd5066a59>:2: SettingWithCopyWarning: \n",
      "A value is trying to be set on a copy of a slice from a DataFrame.\n",
      "Try using .loc[row_indexer,col_indexer] = value instead\n",
      "\n",
      "See the caveats in the documentation: https://pandas.pydata.org/pandas-docs/stable/user_guide/indexing.html#returning-a-view-versus-a-copy\n",
      "  X_identified['avg_price_pow_energy']=X_identified.avg_price_pow_energy*0.8\n"
     ]
    }
   ],
   "source": [
    "X_identified['net_margin']=X_identified.net_margin*0.8\n",
    "X_identified['avg_price_pow_energy']=X_identified.avg_price_pow_energy*0.8"
   ]
  },
  {
   "cell_type": "code",
   "execution_count": 28,
   "id": "aboriginal-affect",
   "metadata": {},
   "outputs": [
    {
     "data": {
      "text/plain": [
       "0.6230323115161558"
      ]
     },
     "execution_count": 28,
     "metadata": {},
     "output_type": "execute_result"
    }
   ],
   "source": [
    "model.predict(X_identified).mean()"
   ]
  },
  {
   "cell_type": "code",
   "execution_count": 29,
   "id": "general-novelty",
   "metadata": {},
   "outputs": [
    {
     "data": {
      "text/plain": [
       "455"
      ]
     },
     "execution_count": 29,
     "metadata": {},
     "output_type": "execute_result"
    }
   ],
   "source": [
    "1207-model.predict(X_identified).sum()"
   ]
  },
  {
   "cell_type": "code",
   "execution_count": null,
   "id": "organized-mirror",
   "metadata": {},
   "outputs": [],
   "source": []
  },
  {
   "cell_type": "code",
   "execution_count": null,
   "id": "finnish-bible",
   "metadata": {},
   "outputs": [],
   "source": []
  }
 ],
 "metadata": {
  "kernelspec": {
   "display_name": "Python 3",
   "language": "python",
   "name": "python3"
  },
  "language_info": {
   "codemirror_mode": {
    "name": "ipython",
    "version": 3
   },
   "file_extension": ".py",
   "mimetype": "text/x-python",
   "name": "python",
   "nbconvert_exporter": "python",
   "pygments_lexer": "ipython3",
   "version": "3.9.0"
  }
 },
 "nbformat": 4,
 "nbformat_minor": 5
}
