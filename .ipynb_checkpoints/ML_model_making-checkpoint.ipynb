{
 "cells": [
  {
   "cell_type": "code",
   "execution_count": 1,
   "id": "crazy-intelligence",
   "metadata": {},
   "outputs": [],
   "source": [
    "import numpy as np\n",
    "import pandas as pd\n",
    "import seaborn as sns\n",
    "import matplotlib.pyplot as plt"
   ]
  },
  {
   "cell_type": "code",
   "execution_count": 2,
   "id": "classified-longer",
   "metadata": {},
   "outputs": [
    {
     "data": {
      "text/html": [
       "<div><div id=10e023cc-3094-4cc7-8a4d-216164bf2e10 style=\"display:none; background-color:#9D6CFF; color:white; width:200px; height:30px; padding-left:5px; border-radius:4px; flex-direction:row; justify-content:space-around; align-items:center;\" onmouseover=\"this.style.backgroundColor='#BA9BF8'\" onmouseout=\"this.style.backgroundColor='#9D6CFF'\" onclick=\"window.commands?.execute('create-mitosheet-from-dataframe-output');\">See Full Dataframe in Mito</div> <script> if (window.commands.hasCommand('create-mitosheet-from-dataframe-output')) document.getElementById('10e023cc-3094-4cc7-8a4d-216164bf2e10').style.display = 'flex' </script> <table border=\"1\" class=\"dataframe\">\n",
       "  <thead>\n",
       "    <tr style=\"text-align: right;\">\n",
       "      <th></th>\n",
       "      <th>id</th>\n",
       "      <th>cons_12m</th>\n",
       "      <th>cons_gas_12m</th>\n",
       "      <th>date_activ</th>\n",
       "      <th>date_end</th>\n",
       "      <th>date_modif_prod</th>\n",
       "      <th>date_renewal</th>\n",
       "      <th>forecast_cons_12m</th>\n",
       "      <th>forecast_cons_year</th>\n",
       "      <th>forecast_meter_rent_12m</th>\n",
       "      <th>...</th>\n",
       "      <th>forecast_price_pow_p1</th>\n",
       "      <th>margin_gross_pow_ele</th>\n",
       "      <th>nb_prod_act</th>\n",
       "      <th>net_margin</th>\n",
       "      <th>num_years_antig</th>\n",
       "      <th>pow_max</th>\n",
       "      <th>churn</th>\n",
       "      <th>origin_up_lxidpiddsbxsbosboudacockeimpuepw</th>\n",
       "      <th>channel_sales_foosdfpfkusacimwkcsosbicdxkicaua</th>\n",
       "      <th>avg_price_pow_energy</th>\n",
       "    </tr>\n",
       "  </thead>\n",
       "  <tbody>\n",
       "    <tr>\n",
       "      <th>0</th>\n",
       "      <td>48ada52261e7cf58715202705a0451c9</td>\n",
       "      <td>309275</td>\n",
       "      <td>0</td>\n",
       "      <td>2012.11</td>\n",
       "      <td>2016.11</td>\n",
       "      <td>2012.11</td>\n",
       "      <td>2015.11</td>\n",
       "      <td>26520.30</td>\n",
       "      <td>10025</td>\n",
       "      <td>359.29</td>\n",
       "      <td>...</td>\n",
       "      <td>58.995952</td>\n",
       "      <td>-41.76</td>\n",
       "      <td>1</td>\n",
       "      <td>1732.36</td>\n",
       "      <td>3</td>\n",
       "      <td>180.000</td>\n",
       "      <td>0</td>\n",
       "      <td>0</td>\n",
       "      <td>0</td>\n",
       "      <td>34.637748</td>\n",
       "    </tr>\n",
       "    <tr>\n",
       "      <th>1</th>\n",
       "      <td>24011ae4ebbe3035111d65fa7c15bc57</td>\n",
       "      <td>0</td>\n",
       "      <td>54946</td>\n",
       "      <td>2013.06</td>\n",
       "      <td>2016.06</td>\n",
       "      <td>2013.11</td>\n",
       "      <td>2015.06</td>\n",
       "      <td>0.00</td>\n",
       "      <td>0</td>\n",
       "      <td>1.78</td>\n",
       "      <td>...</td>\n",
       "      <td>40.606701</td>\n",
       "      <td>25.44</td>\n",
       "      <td>2</td>\n",
       "      <td>678.99</td>\n",
       "      <td>3</td>\n",
       "      <td>43.648</td>\n",
       "      <td>1</td>\n",
       "      <td>1</td>\n",
       "      <td>1</td>\n",
       "      <td>27.192538</td>\n",
       "    </tr>\n",
       "    <tr>\n",
       "      <th>2</th>\n",
       "      <td>d29c2c54acc38ff3c0614d0a653813dd</td>\n",
       "      <td>4660</td>\n",
       "      <td>0</td>\n",
       "      <td>2009.08</td>\n",
       "      <td>2016.08</td>\n",
       "      <td>2009.08</td>\n",
       "      <td>2015.08</td>\n",
       "      <td>189.95</td>\n",
       "      <td>0</td>\n",
       "      <td>16.27</td>\n",
       "      <td>...</td>\n",
       "      <td>44.311378</td>\n",
       "      <td>16.38</td>\n",
       "      <td>1</td>\n",
       "      <td>18.89</td>\n",
       "      <td>6</td>\n",
       "      <td>13.800</td>\n",
       "      <td>0</td>\n",
       "      <td>0</td>\n",
       "      <td>0</td>\n",
       "      <td>14.821783</td>\n",
       "    </tr>\n",
       "    <tr>\n",
       "      <th>3</th>\n",
       "      <td>764c75f661154dac3a6c254cd082ea7d</td>\n",
       "      <td>544</td>\n",
       "      <td>0</td>\n",
       "      <td>2010.04</td>\n",
       "      <td>2016.04</td>\n",
       "      <td>2010.04</td>\n",
       "      <td>2015.04</td>\n",
       "      <td>47.96</td>\n",
       "      <td>0</td>\n",
       "      <td>38.72</td>\n",
       "      <td>...</td>\n",
       "      <td>44.311378</td>\n",
       "      <td>28.60</td>\n",
       "      <td>1</td>\n",
       "      <td>6.60</td>\n",
       "      <td>6</td>\n",
       "      <td>13.856</td>\n",
       "      <td>0</td>\n",
       "      <td>0</td>\n",
       "      <td>1</td>\n",
       "      <td>14.881461</td>\n",
       "    </tr>\n",
       "    <tr>\n",
       "      <th>4</th>\n",
       "      <td>bba03439a292a1e166f80264c16191cb</td>\n",
       "      <td>1584</td>\n",
       "      <td>0</td>\n",
       "      <td>2010.03</td>\n",
       "      <td>2016.03</td>\n",
       "      <td>2010.03</td>\n",
       "      <td>2015.03</td>\n",
       "      <td>240.04</td>\n",
       "      <td>0</td>\n",
       "      <td>19.83</td>\n",
       "      <td>...</td>\n",
       "      <td>44.311378</td>\n",
       "      <td>30.22</td>\n",
       "      <td>1</td>\n",
       "      <td>25.46</td>\n",
       "      <td>6</td>\n",
       "      <td>13.200</td>\n",
       "      <td>0</td>\n",
       "      <td>0</td>\n",
       "      <td>0</td>\n",
       "      <td>14.850492</td>\n",
       "    </tr>\n",
       "  </tbody>\n",
       "</table></div>"
      ],
      "text/plain": [
       "                                 id  cons_12m  cons_gas_12m  date_activ  \\\n",
       "0  48ada52261e7cf58715202705a0451c9    309275             0     2012.11   \n",
       "1  24011ae4ebbe3035111d65fa7c15bc57         0         54946     2013.06   \n",
       "2  d29c2c54acc38ff3c0614d0a653813dd      4660             0     2009.08   \n",
       "3  764c75f661154dac3a6c254cd082ea7d       544             0     2010.04   \n",
       "4  bba03439a292a1e166f80264c16191cb      1584             0     2010.03   \n",
       "\n",
       "   date_end  date_modif_prod  date_renewal  forecast_cons_12m  \\\n",
       "0   2016.11          2012.11       2015.11           26520.30   \n",
       "1   2016.06          2013.11       2015.06               0.00   \n",
       "2   2016.08          2009.08       2015.08             189.95   \n",
       "3   2016.04          2010.04       2015.04              47.96   \n",
       "4   2016.03          2010.03       2015.03             240.04   \n",
       "\n",
       "   forecast_cons_year  forecast_meter_rent_12m  ...  forecast_price_pow_p1  \\\n",
       "0               10025                   359.29  ...              58.995952   \n",
       "1                   0                     1.78  ...              40.606701   \n",
       "2                   0                    16.27  ...              44.311378   \n",
       "3                   0                    38.72  ...              44.311378   \n",
       "4                   0                    19.83  ...              44.311378   \n",
       "\n",
       "   margin_gross_pow_ele  nb_prod_act  net_margin  num_years_antig  pow_max  \\\n",
       "0                -41.76            1     1732.36                3  180.000   \n",
       "1                 25.44            2      678.99                3   43.648   \n",
       "2                 16.38            1       18.89                6   13.800   \n",
       "3                 28.60            1        6.60                6   13.856   \n",
       "4                 30.22            1       25.46                6   13.200   \n",
       "\n",
       "   churn  origin_up_lxidpiddsbxsbosboudacockeimpuepw  \\\n",
       "0      0                                           0   \n",
       "1      1                                           1   \n",
       "2      0                                           0   \n",
       "3      0                                           0   \n",
       "4      0                                           0   \n",
       "\n",
       "   channel_sales_foosdfpfkusacimwkcsosbicdxkicaua  avg_price_pow_energy  \n",
       "0                                               0             34.637748  \n",
       "1                                               1             27.192538  \n",
       "2                                               0             14.821783  \n",
       "3                                               1             14.881461  \n",
       "4                                               0             14.850492  \n",
       "\n",
       "[5 rows x 21 columns]"
      ]
     },
     "execution_count": 2,
     "metadata": {},
     "output_type": "execute_result"
    }
   ],
   "source": [
    "df=pd.read_csv('feature_selected_data.csv',index_col=0)\n",
    "df.head()"
   ]
  },
  {
   "cell_type": "code",
   "execution_count": 3,
   "id": "african-pattern",
   "metadata": {},
   "outputs": [
    {
     "data": {
      "text/html": [
       "<div><div id=9f31ae5a-dddf-4a53-920e-df059cf290d9 style=\"display:none; background-color:#9D6CFF; color:white; width:200px; height:30px; padding-left:5px; border-radius:4px; flex-direction:row; justify-content:space-around; align-items:center;\" onmouseover=\"this.style.backgroundColor='#BA9BF8'\" onmouseout=\"this.style.backgroundColor='#9D6CFF'\" onclick=\"window.commands?.execute('create-mitosheet-from-dataframe-output');\">See Full Dataframe in Mito</div> <script> if (window.commands.hasCommand('create-mitosheet-from-dataframe-output')) document.getElementById('9f31ae5a-dddf-4a53-920e-df059cf290d9').style.display = 'flex' </script> <table border=\"1\" class=\"dataframe\">\n",
       "  <thead>\n",
       "    <tr style=\"text-align: right;\">\n",
       "      <th></th>\n",
       "      <th>0</th>\n",
       "    </tr>\n",
       "  </thead>\n",
       "  <tbody>\n",
       "    <tr>\n",
       "      <th>0</th>\n",
       "      <td>id</td>\n",
       "    </tr>\n",
       "    <tr>\n",
       "      <th>1</th>\n",
       "      <td>cons_12m</td>\n",
       "    </tr>\n",
       "    <tr>\n",
       "      <th>2</th>\n",
       "      <td>cons_gas_12m</td>\n",
       "    </tr>\n",
       "    <tr>\n",
       "      <th>3</th>\n",
       "      <td>date_activ</td>\n",
       "    </tr>\n",
       "    <tr>\n",
       "      <th>4</th>\n",
       "      <td>date_end</td>\n",
       "    </tr>\n",
       "    <tr>\n",
       "      <th>5</th>\n",
       "      <td>date_modif_prod</td>\n",
       "    </tr>\n",
       "    <tr>\n",
       "      <th>6</th>\n",
       "      <td>date_renewal</td>\n",
       "    </tr>\n",
       "    <tr>\n",
       "      <th>7</th>\n",
       "      <td>forecast_cons_12m</td>\n",
       "    </tr>\n",
       "    <tr>\n",
       "      <th>8</th>\n",
       "      <td>forecast_cons_year</td>\n",
       "    </tr>\n",
       "    <tr>\n",
       "      <th>9</th>\n",
       "      <td>forecast_meter_rent_12m</td>\n",
       "    </tr>\n",
       "    <tr>\n",
       "      <th>10</th>\n",
       "      <td>forecast_price_energy_p1</td>\n",
       "    </tr>\n",
       "    <tr>\n",
       "      <th>11</th>\n",
       "      <td>forecast_price_pow_p1</td>\n",
       "    </tr>\n",
       "    <tr>\n",
       "      <th>12</th>\n",
       "      <td>margin_gross_pow_ele</td>\n",
       "    </tr>\n",
       "    <tr>\n",
       "      <th>13</th>\n",
       "      <td>nb_prod_act</td>\n",
       "    </tr>\n",
       "    <tr>\n",
       "      <th>14</th>\n",
       "      <td>net_margin</td>\n",
       "    </tr>\n",
       "    <tr>\n",
       "      <th>15</th>\n",
       "      <td>num_years_antig</td>\n",
       "    </tr>\n",
       "    <tr>\n",
       "      <th>16</th>\n",
       "      <td>pow_max</td>\n",
       "    </tr>\n",
       "    <tr>\n",
       "      <th>17</th>\n",
       "      <td>churn</td>\n",
       "    </tr>\n",
       "    <tr>\n",
       "      <th>18</th>\n",
       "      <td>origin_up_lxidpiddsbxsbosboudacockeimpuepw</td>\n",
       "    </tr>\n",
       "    <tr>\n",
       "      <th>19</th>\n",
       "      <td>channel_sales_foosdfpfkusacimwkcsosbicdxkicaua</td>\n",
       "    </tr>\n",
       "    <tr>\n",
       "      <th>20</th>\n",
       "      <td>avg_price_pow_energy</td>\n",
       "    </tr>\n",
       "  </tbody>\n",
       "</table></div>"
      ],
      "text/plain": [
       "                                                 0\n",
       "0                                               id\n",
       "1                                         cons_12m\n",
       "2                                     cons_gas_12m\n",
       "3                                       date_activ\n",
       "4                                         date_end\n",
       "5                                  date_modif_prod\n",
       "6                                     date_renewal\n",
       "7                                forecast_cons_12m\n",
       "8                               forecast_cons_year\n",
       "9                          forecast_meter_rent_12m\n",
       "10                        forecast_price_energy_p1\n",
       "11                           forecast_price_pow_p1\n",
       "12                            margin_gross_pow_ele\n",
       "13                                     nb_prod_act\n",
       "14                                      net_margin\n",
       "15                                 num_years_antig\n",
       "16                                         pow_max\n",
       "17                                           churn\n",
       "18      origin_up_lxidpiddsbxsbosboudacockeimpuepw\n",
       "19  channel_sales_foosdfpfkusacimwkcsosbicdxkicaua\n",
       "20                            avg_price_pow_energy"
      ]
     },
     "execution_count": 3,
     "metadata": {},
     "output_type": "execute_result"
    }
   ],
   "source": [
    "pd.DataFrame(df.columns)"
   ]
  },
  {
   "cell_type": "code",
   "execution_count": 4,
   "id": "initial-rating",
   "metadata": {},
   "outputs": [],
   "source": [
    "X=df.drop(['churn','id'],axis=1)\n",
    "y=df.churn"
   ]
  },
  {
   "cell_type": "code",
   "execution_count": null,
   "id": "backed-matthew",
   "metadata": {},
   "outputs": [],
   "source": []
  },
  {
   "cell_type": "markdown",
   "id": "secret-adolescent",
   "metadata": {},
   "source": [
    "# Now we need to split our data into train and test data, since the data is imbalanced we will use Stratified_shuffle_shift to split data into test and train data. "
   ]
  },
  {
   "cell_type": "code",
   "execution_count": 5,
   "id": "changing-criterion",
   "metadata": {},
   "outputs": [],
   "source": [
    "from sklearn.model_selection import StratifiedShuffleSplit"
   ]
  },
  {
   "cell_type": "code",
   "execution_count": 6,
   "id": "august-terrain",
   "metadata": {},
   "outputs": [],
   "source": [
    "sss=StratifiedShuffleSplit(test_size=0.30,random_state=0)"
   ]
  },
  {
   "cell_type": "code",
   "execution_count": 7,
   "id": "material-lafayette",
   "metadata": {},
   "outputs": [
    {
     "name": "stdout",
     "output_type": "stream",
     "text": [
      "StratifiedShuffleSplit(n_splits=10, random_state=0, test_size=0.3,\n",
      "            train_size=None)\n"
     ]
    }
   ],
   "source": [
    "print(sss)"
   ]
  },
  {
   "cell_type": "code",
   "execution_count": 8,
   "id": "deluxe-fifteen",
   "metadata": {},
   "outputs": [],
   "source": [
    "for train_index, test_index in sss.split(X,y):\n",
    "#     print(\"TRAIN:\", train_index, \"TEST:\", test_index)\n",
    "    X_train,X_test=X.loc[train_index],X.loc[test_index]\n",
    "    y_train,y_test=y.loc[train_index],y.loc[test_index]"
   ]
  },
  {
   "cell_type": "code",
   "execution_count": 9,
   "id": "qualified-washer",
   "metadata": {},
   "outputs": [
    {
     "data": {
      "text/plain": [
       "((11265, 19), (4829, 19))"
      ]
     },
     "execution_count": 9,
     "metadata": {},
     "output_type": "execute_result"
    }
   ],
   "source": [
    "X_train.shape,X_test.shape"
   ]
  },
  {
   "cell_type": "code",
   "execution_count": 10,
   "id": "annoying-cutting",
   "metadata": {},
   "outputs": [],
   "source": [
    "from imblearn.over_sampling import RandomOverSampler\n",
    "over_sampler = RandomOverSampler(random_state=42)"
   ]
  },
  {
   "cell_type": "code",
   "execution_count": 11,
   "id": "soviet-level",
   "metadata": {},
   "outputs": [],
   "source": [
    "X_ovs,y_ovs=over_sampler.fit_resample(X_train,y_train)"
   ]
  },
  {
   "cell_type": "code",
   "execution_count": 12,
   "id": "ranging-burner",
   "metadata": {},
   "outputs": [],
   "source": [
    "df_resampled=X_ovs.copy()\n",
    "df_resampled['churn']=y_ovs\n",
    "df_resampled=df_resampled.sample(frac=1,random_state=0)"
   ]
  },
  {
   "cell_type": "code",
   "execution_count": 13,
   "id": "invalid-audience",
   "metadata": {},
   "outputs": [],
   "source": [
    "# Final test and train data are X_training and y_training.\n",
    "X_training=df_resampled.drop('churn',axis=1)\n",
    "y_training=df_resampled.churn"
   ]
  },
  {
   "cell_type": "code",
   "execution_count": null,
   "id": "personalized-telephone",
   "metadata": {},
   "outputs": [],
   "source": []
  },
  {
   "cell_type": "code",
   "execution_count": null,
   "id": "atmospheric-appliance",
   "metadata": {},
   "outputs": [],
   "source": []
  },
  {
   "cell_type": "code",
   "execution_count": null,
   "id": "sacred-equipment",
   "metadata": {},
   "outputs": [],
   "source": []
  },
  {
   "cell_type": "code",
   "execution_count": 14,
   "id": "fiscal-significance",
   "metadata": {},
   "outputs": [],
   "source": [
    "from sklearn.metrics import roc_auc_score,accuracy_score\n",
    "from sklearn.ensemble import RandomForestClassifier\n",
    "from sklearn.ensemble import GradientBoostingClassifier\n",
    "from sklearn.model_selection import GridSearchCV,RandomizedSearchCV\n",
    "from sklearn.metrics import precision_score,recall_score,confusion_matrix\n",
    "from sklearn.ensemble import VotingClassifier\n",
    "from sklearn.ensemble import BaggingClassifier,AdaBoostClassifier"
   ]
  },
  {
   "cell_type": "code",
   "execution_count": null,
   "id": "supported-evidence",
   "metadata": {},
   "outputs": [],
   "source": []
  },
  {
   "cell_type": "markdown",
   "id": "measured-dictionary",
   "metadata": {},
   "source": [
    "# Experimenting with GradientBoost."
   ]
  },
  {
   "cell_type": "code",
   "execution_count": 15,
   "id": "forbidden-oxygen",
   "metadata": {},
   "outputs": [],
   "source": [
    "clf2=GradientBoostingClassifier(n_estimators=1250,random_state=0,learning_rate=0.05,max_depth=3,verbose=1,max_features=10)"
   ]
  },
  {
   "cell_type": "code",
   "execution_count": 16,
   "id": "comfortable-ribbon",
   "metadata": {},
   "outputs": [
    {
     "name": "stdout",
     "output_type": "stream",
     "text": [
      "      Iter       Train Loss   Remaining Time \n",
      "         1           1.3786           31.19s\n",
      "         2           1.3732           33.96s\n",
      "         3           1.3677           30.91s\n",
      "         4           1.3623           31.95s\n",
      "         5           1.3566           32.19s\n",
      "         6           1.3515           31.86s\n",
      "         7           1.3466           31.38s\n",
      "         8           1.3417           31.81s\n",
      "         9           1.3376           32.73s\n",
      "        10           1.3336           33.56s\n",
      "        20           1.3037           31.95s\n",
      "        30           1.2810           32.03s\n",
      "        40           1.2659           30.56s\n",
      "        50           1.2537           30.88s\n",
      "        60           1.2421           30.51s\n",
      "        70           1.2336           30.95s\n",
      "        80           1.2241           35.38s\n",
      "        90           1.2150           38.84s\n",
      "       100           1.2078           41.44s\n",
      "       200           1.1353           51.37s\n",
      "       300           1.0803           50.56s\n",
      "       400           1.0329           46.97s\n",
      "       500           0.9896           42.71s\n",
      "       600           0.9492           37.88s\n",
      "       700           0.9135           32.32s\n",
      "       800           0.8798           26.47s\n",
      "       900           0.8494           20.72s\n",
      "      1000           0.8197           14.87s\n"
     ]
    },
    {
     "data": {
      "text/plain": [
       "GradientBoostingClassifier(learning_rate=0.05, max_features=10,\n",
       "                           n_estimators=1250, random_state=0, verbose=1)"
      ]
     },
     "execution_count": 16,
     "metadata": {},
     "output_type": "execute_result"
    }
   ],
   "source": [
    "clf2.fit(X_training,y_training)"
   ]
  },
  {
   "cell_type": "code",
   "execution_count": 17,
   "id": "improving-advocacy",
   "metadata": {},
   "outputs": [
    {
     "data": {
      "text/plain": [
       "0.8130047628908676"
      ]
     },
     "execution_count": 17,
     "metadata": {},
     "output_type": "execute_result"
    }
   ],
   "source": [
    "accuracy_score(y_test,clf2.predict(X_test))"
   ]
  },
  {
   "cell_type": "code",
   "execution_count": 18,
   "id": "mounted-compiler",
   "metadata": {},
   "outputs": [
    {
     "data": {
      "text/plain": [
       "0.24179829890643986"
      ]
     },
     "execution_count": 18,
     "metadata": {},
     "output_type": "execute_result"
    }
   ],
   "source": [
    "precision_score(y_test,clf2.predict(X_test))"
   ]
  },
  {
   "cell_type": "code",
   "execution_count": 19,
   "id": "applicable-investor",
   "metadata": {},
   "outputs": [
    {
     "data": {
      "text/plain": [
       "0.41631799163179917"
      ]
     },
     "execution_count": 19,
     "metadata": {},
     "output_type": "execute_result"
    }
   ],
   "source": [
    "recall_score(y_test,clf2.predict(X_test))"
   ]
  },
  {
   "cell_type": "code",
   "execution_count": 20,
   "id": "concerned-novel",
   "metadata": {},
   "outputs": [
    {
     "data": {
      "text/plain": [
       "array([[3727,  624],\n",
       "       [ 279,  199]], dtype=int64)"
      ]
     },
     "execution_count": 20,
     "metadata": {},
     "output_type": "execute_result"
    }
   ],
   "source": [
    "confusion_matrix(y_test,clf2.predict(X_test))"
   ]
  },
  {
   "cell_type": "code",
   "execution_count": null,
   "id": "rolled-stuart",
   "metadata": {},
   "outputs": [],
   "source": []
  },
  {
   "cell_type": "code",
   "execution_count": 21,
   "id": "allied-timothy",
   "metadata": {},
   "outputs": [
    {
     "data": {
      "text/plain": [
       "['margin_gross_pow_ele',\n",
       " 'cons_12m',\n",
       " 'avg_price_pow_energy',\n",
       " 'net_margin',\n",
       " 'forecast_meter_rent_12m',\n",
       " 'forecast_cons_12m',\n",
       " 'forecast_price_energy_p1',\n",
       " 'date_activ',\n",
       " 'pow_max',\n",
       " 'date_modif_prod',\n",
       " 'forecast_cons_year',\n",
       " 'date_renewal',\n",
       " 'origin_up_lxidpiddsbxsbosboudacockeimpuepw',\n",
       " 'date_end',\n",
       " 'cons_gas_12m',\n",
       " 'num_years_antig',\n",
       " 'channel_sales_foosdfpfkusacimwkcsosbicdxkicaua',\n",
       " 'nb_prod_act',\n",
       " 'forecast_price_pow_p1']"
      ]
     },
     "execution_count": 21,
     "metadata": {},
     "output_type": "execute_result"
    }
   ],
   "source": [
    "lst=dict(zip(X_training.columns,clf2.feature_importances_))\n",
    "sorted(lst,key=lambda i:lst[i],reverse=True)"
   ]
  },
  {
   "cell_type": "code",
   "execution_count": null,
   "id": "legitimate-rover",
   "metadata": {},
   "outputs": [],
   "source": []
  },
  {
   "cell_type": "markdown",
   "id": "wicked-checkout",
   "metadata": {},
   "source": [
    "# Using Voting Classifier to combine RandomForest and GradientBoost."
   ]
  },
  {
   "cell_type": "markdown",
   "id": "dental-dressing",
   "metadata": {},
   "source": [
    "## Voting Classifier(RF,GB)"
   ]
  },
  {
   "cell_type": "code",
   "execution_count": 22,
   "id": "conservative-antique",
   "metadata": {},
   "outputs": [],
   "source": [
    "m1=RandomForestClassifier(n_estimators=500,max_samples=0.5,random_state=0,max_depth=10)\n",
    "m2=GradientBoostingClassifier(n_estimators=1250,random_state=0,learning_rate=0.05,max_depth=3)"
   ]
  },
  {
   "cell_type": "code",
   "execution_count": 23,
   "id": "joint-advocate",
   "metadata": {},
   "outputs": [],
   "source": [
    "estmtrs=[('rf',m1),('GB',m2)]"
   ]
  },
  {
   "cell_type": "code",
   "execution_count": 24,
   "id": "normal-scholar",
   "metadata": {},
   "outputs": [],
   "source": [
    "clf_voting=VotingClassifier(estimators=estmtrs,voting='hard')"
   ]
  },
  {
   "cell_type": "code",
   "execution_count": 25,
   "id": "spare-party",
   "metadata": {},
   "outputs": [
    {
     "data": {
      "text/plain": [
       "VotingClassifier(estimators=[('rf',\n",
       "                              RandomForestClassifier(max_depth=10,\n",
       "                                                     max_samples=0.5,\n",
       "                                                     n_estimators=500,\n",
       "                                                     random_state=0)),\n",
       "                             ('GB',\n",
       "                              GradientBoostingClassifier(learning_rate=0.05,\n",
       "                                                         n_estimators=1250,\n",
       "                                                         random_state=0))])"
      ]
     },
     "execution_count": 25,
     "metadata": {},
     "output_type": "execute_result"
    }
   ],
   "source": [
    "clf_voting.fit(X_training,y_training)"
   ]
  },
  {
   "cell_type": "code",
   "execution_count": 26,
   "id": "incomplete-paraguay",
   "metadata": {},
   "outputs": [],
   "source": [
    "y_pred_voting=clf_voting.predict(X_test)"
   ]
  },
  {
   "cell_type": "code",
   "execution_count": 27,
   "id": "defensive-hudson",
   "metadata": {},
   "outputs": [
    {
     "data": {
      "text/plain": [
       "(0.8670532201283909, 0.3247863247863248, 0.3179916317991632)"
      ]
     },
     "execution_count": 27,
     "metadata": {},
     "output_type": "execute_result"
    }
   ],
   "source": [
    "accuracy_score(y_test,y_pred_voting),precision_score(y_test,y_pred_voting),recall_score(y_test,y_pred_voting)"
   ]
  },
  {
   "cell_type": "code",
   "execution_count": 28,
   "id": "hydraulic-funds",
   "metadata": {},
   "outputs": [
    {
     "data": {
      "text/plain": [
       "array([[4035,  316],\n",
       "       [ 326,  152]], dtype=int64)"
      ]
     },
     "execution_count": 28,
     "metadata": {},
     "output_type": "execute_result"
    }
   ],
   "source": [
    "confusion_matrix(y_test,y_pred_voting)"
   ]
  },
  {
   "cell_type": "code",
   "execution_count": 29,
   "id": "innovative-receptor",
   "metadata": {},
   "outputs": [
    {
     "data": {
      "text/plain": [
       "(4829,)"
      ]
     },
     "execution_count": 29,
     "metadata": {},
     "output_type": "execute_result"
    }
   ],
   "source": [
    "y_test.shape"
   ]
  },
  {
   "cell_type": "code",
   "execution_count": null,
   "id": "accessible-mentor",
   "metadata": {},
   "outputs": [],
   "source": []
  },
  {
   "cell_type": "code",
   "execution_count": null,
   "id": "representative-confusion",
   "metadata": {},
   "outputs": [],
   "source": []
  },
  {
   "cell_type": "markdown",
   "id": "express-forwarding",
   "metadata": {},
   "source": [
    "# Analysing how xgboost performs."
   ]
  },
  {
   "cell_type": "code",
   "execution_count": 30,
   "id": "ignored-gamma",
   "metadata": {},
   "outputs": [],
   "source": [
    "import xgboost as xgb"
   ]
  },
  {
   "cell_type": "code",
   "execution_count": 31,
   "id": "accepting-interview",
   "metadata": {},
   "outputs": [],
   "source": [
    "clf4=xgb.XGBClassifier(n_estimators=1250,max_depth=3,learning_rate=0.35,reg_lambda=0,gamma=0,random_state=0,\n",
    "                       min_child_weight=0.5)"
   ]
  },
  {
   "cell_type": "code",
   "execution_count": 32,
   "id": "northern-geology",
   "metadata": {},
   "outputs": [
    {
     "name": "stderr",
     "output_type": "stream",
     "text": [
      "c:\\users\\91709\\appdata\\local\\programs\\python\\python39\\lib\\site-packages\\xgboost\\sklearn.py:1224: UserWarning: The use of label encoder in XGBClassifier is deprecated and will be removed in a future release. To remove this warning, do the following: 1) Pass option use_label_encoder=False when constructing XGBClassifier object; and 2) Encode your labels (y) as integers starting with 0, i.e. 0, 1, 2, ..., [num_class - 1].\n",
      "  warnings.warn(label_encoder_deprecation_msg, UserWarning)\n"
     ]
    },
    {
     "name": "stdout",
     "output_type": "stream",
     "text": [
      "[17:09:53] WARNING: C:/Users/Administrator/workspace/xgboost-win64_release_1.5.0/src/learner.cc:1115: Starting in XGBoost 1.3.0, the default evaluation metric used with the objective 'binary:logistic' was changed from 'error' to 'logloss'. Explicitly set eval_metric if you'd like to restore the old behavior.\n"
     ]
    },
    {
     "data": {
      "text/plain": [
       "XGBClassifier(base_score=0.5, booster='gbtree', colsample_bylevel=1,\n",
       "              colsample_bynode=1, colsample_bytree=1, enable_categorical=False,\n",
       "              gamma=0, gpu_id=-1, importance_type=None,\n",
       "              interaction_constraints='', learning_rate=0.35, max_delta_step=0,\n",
       "              max_depth=3, min_child_weight=0.5, missing=nan,\n",
       "              monotone_constraints='()', n_estimators=1250, n_jobs=8,\n",
       "              num_parallel_tree=1, predictor='auto', random_state=0,\n",
       "              reg_alpha=0, reg_lambda=0, scale_pos_weight=1, subsample=1,\n",
       "              tree_method='exact', validate_parameters=1, verbosity=None)"
      ]
     },
     "execution_count": 32,
     "metadata": {},
     "output_type": "execute_result"
    }
   ],
   "source": [
    "clf4.fit(X_training,y_training)"
   ]
  },
  {
   "cell_type": "code",
   "execution_count": 33,
   "id": "mexican-saturday",
   "metadata": {},
   "outputs": [],
   "source": [
    "y_pred_clf4=clf4.predict(X_test)"
   ]
  },
  {
   "cell_type": "code",
   "execution_count": 34,
   "id": "vocal-oxide",
   "metadata": {},
   "outputs": [
    {
     "data": {
      "text/plain": [
       "(0.8887968523503831, 0.40923076923076923, 0.27824267782426776)"
      ]
     },
     "execution_count": 34,
     "metadata": {},
     "output_type": "execute_result"
    }
   ],
   "source": [
    "accuracy_score(y_test,y_pred_clf4),precision_score(y_test,y_pred_clf4),recall_score(y_test,y_pred_clf4)"
   ]
  },
  {
   "cell_type": "code",
   "execution_count": 35,
   "id": "operational-information",
   "metadata": {},
   "outputs": [
    {
     "data": {
      "text/plain": [
       "array([[4159,  192],\n",
       "       [ 345,  133]], dtype=int64)"
      ]
     },
     "execution_count": 35,
     "metadata": {},
     "output_type": "execute_result"
    }
   ],
   "source": [
    "confusion_matrix(y_test,y_pred_clf4)"
   ]
  },
  {
   "cell_type": "code",
   "execution_count": null,
   "id": "functioning-tampa",
   "metadata": {},
   "outputs": [],
   "source": []
  },
  {
   "cell_type": "code",
   "execution_count": 36,
   "id": "mexican-wells",
   "metadata": {},
   "outputs": [
    {
     "data": {
      "text/plain": [
       "<AxesSubplot:title={'center':'Feature importance'}, xlabel='F score', ylabel='Features'>"
      ]
     },
     "execution_count": 36,
     "metadata": {},
     "output_type": "execute_result"
    },
    {
     "data": {
      "image/png": "[encoded data removed]",
      "text/plain": [
       "<Figure size 576x576 with 1 Axes>"
      ]
     },
     "metadata": {
      "needs_background": "light"
     },
     "output_type": "display_data"
    }
   ],
   "source": [
    "fig,axis=plt.subplots(figsize=(8,8))\n",
    "xgb.plot_importance(clf4,ax=axis)"
   ]
  },
  {
   "cell_type": "code",
   "execution_count": null,
   "id": "sound-lecture",
   "metadata": {},
   "outputs": [],
   "source": []
  },
  {
   "cell_type": "markdown",
   "id": "floral-bearing",
   "metadata": {},
   "source": [
    "# Using RandomForest, GradientBoost, XGBoost together by a Voting Classifier. "
   ]
  },
  {
   "cell_type": "markdown",
   "id": "legendary-sherman",
   "metadata": {},
   "source": [
    "## Voting Classifier 2 (rf, GB, XGB)"
   ]
  },
  {
   "cell_type": "code",
   "execution_count": 37,
   "id": "controlled-confirmation",
   "metadata": {},
   "outputs": [],
   "source": [
    "est1=RandomForestClassifier(n_estimators=1000,max_samples=0.25,random_state=0,max_depth=10)\n",
    "est2=GradientBoostingClassifier(n_estimators=1250,random_state=0,learning_rate=0.05,max_depth=3)\n",
    "est3=xgb.XGBClassifier(n_estimators=1250,max_depth=3,learning_rate=0.35,reg_lambda=0,\n",
    "                       gamma=0,random_state=0,min_child_weight=0.5)"
   ]
  },
  {
   "cell_type": "code",
   "execution_count": 38,
   "id": "centered-trace",
   "metadata": {},
   "outputs": [],
   "source": [
    "lst=[('rf',est1),('GB',est2),('XGB',est3)]"
   ]
  },
  {
   "cell_type": "code",
   "execution_count": 39,
   "id": "every-atlantic",
   "metadata": {},
   "outputs": [],
   "source": [
    "model=VotingClassifier(estimators=lst,voting='hard')"
   ]
  },
  {
   "cell_type": "code",
   "execution_count": 40,
   "id": "prompt-thought",
   "metadata": {},
   "outputs": [
    {
     "name": "stderr",
     "output_type": "stream",
     "text": [
      "c:\\users\\91709\\appdata\\local\\programs\\python\\python39\\lib\\site-packages\\xgboost\\sklearn.py:1224: UserWarning: The use of label encoder in XGBClassifier is deprecated and will be removed in a future release. To remove this warning, do the following: 1) Pass option use_label_encoder=False when constructing XGBClassifier object; and 2) Encode your labels (y) as integers starting with 0, i.e. 0, 1, 2, ..., [num_class - 1].\n",
      "  warnings.warn(label_encoder_deprecation_msg, UserWarning)\n"
     ]
    },
    {
     "name": "stdout",
     "output_type": "stream",
     "text": [
      "[17:12:45] WARNING: C:/Users/Administrator/workspace/xgboost-win64_release_1.5.0/src/learner.cc:1115: Starting in XGBoost 1.3.0, the default evaluation metric used with the objective 'binary:logistic' was changed from 'error' to 'logloss'. Explicitly set eval_metric if you'd like to restore the old behavior.\n"
     ]
    },
    {
     "data": {
      "text/plain": [
       "VotingClassifier(estimators=[('rf',\n",
       "                              RandomForestClassifier(max_depth=10,\n",
       "                                                     max_samples=0.25,\n",
       "                                                     n_estimators=1000,\n",
       "                                                     random_state=0)),\n",
       "                             ('GB',\n",
       "                              GradientBoostingClassifier(learning_rate=0.05,\n",
       "                                                         n_estimators=1250,\n",
       "                                                         random_state=0)),\n",
       "                             ('XGB',\n",
       "                              XGBClassifier(base_score=None, booster=None,\n",
       "                                            colsample_bylevel=None,\n",
       "                                            colsample_bynode=None,\n",
       "                                            colsample_bytree=None,\n",
       "                                            enable_categorical=Fals...\n",
       "                                            gpu_id=None, importance_type=None,\n",
       "                                            interaction_constraints=None,\n",
       "                                            learning_rate=0.35,\n",
       "                                            max_delta_step=None, max_depth=3,\n",
       "                                            min_child_weight=0.5, missing=nan,\n",
       "                                            monotone_constraints=None,\n",
       "                                            n_estimators=1250, n_jobs=None,\n",
       "                                            num_parallel_tree=None,\n",
       "                                            predictor=None, random_state=0,\n",
       "                                            reg_alpha=None, reg_lambda=0,\n",
       "                                            scale_pos_weight=None,\n",
       "                                            subsample=None, tree_method=None,\n",
       "                                            validate_parameters=None,\n",
       "                                            verbosity=None))])"
      ]
     },
     "execution_count": 40,
     "metadata": {},
     "output_type": "execute_result"
    }
   ],
   "source": [
    "model.fit(X_training,y_training)"
   ]
  },
  {
   "cell_type": "code",
   "execution_count": 41,
   "id": "collected-bennett",
   "metadata": {},
   "outputs": [],
   "source": [
    "y_pred_model=model.predict(X_test)"
   ]
  },
  {
   "cell_type": "code",
   "execution_count": 42,
   "id": "immune-comfort",
   "metadata": {},
   "outputs": [
    {
     "data": {
      "text/plain": [
       "(0.85669910954649, 0.31095406360424027, 0.3682008368200837)"
      ]
     },
     "execution_count": 42,
     "metadata": {},
     "output_type": "execute_result"
    }
   ],
   "source": [
    "accuracy_score(y_test,y_pred_model),precision_score(y_test,y_pred_model),recall_score(y_test,y_pred_model)"
   ]
  },
  {
   "cell_type": "code",
   "execution_count": 43,
   "id": "fixed-attribute",
   "metadata": {},
   "outputs": [
    {
     "data": {
      "text/plain": [
       "array([[3961,  390],\n",
       "       [ 302,  176]], dtype=int64)"
      ]
     },
     "execution_count": 43,
     "metadata": {},
     "output_type": "execute_result"
    }
   ],
   "source": [
    "confusion_matrix(y_test,y_pred_model)"
   ]
  },
  {
   "cell_type": "code",
   "execution_count": null,
   "id": "raised-glory",
   "metadata": {},
   "outputs": [],
   "source": []
  },
  {
   "cell_type": "code",
   "execution_count": null,
   "id": "ready-intelligence",
   "metadata": {},
   "outputs": [],
   "source": []
  },
  {
   "cell_type": "code",
   "execution_count": null,
   "id": "digital-hartford",
   "metadata": {},
   "outputs": [],
   "source": []
  },
  {
   "cell_type": "markdown",
   "id": "oriented-latitude",
   "metadata": {},
   "source": [
    "# As we can see that the above Voting Classifier has a decent accuracy, also a better precision and recall score than other models tested, so we take this Voting Classifier as our final model, and save it as a pickle file."
   ]
  },
  {
   "cell_type": "code",
   "execution_count": 44,
   "id": "imposed-george",
   "metadata": {},
   "outputs": [],
   "source": [
    "pd.to_pickle(model,'final_model.pkl')"
   ]
  },
  {
   "cell_type": "code",
   "execution_count": null,
   "id": "complimentary-pizza",
   "metadata": {},
   "outputs": [],
   "source": []
  }
 ],
 "metadata": {
  "kernelspec": {
   "display_name": "Python 3",
   "language": "python",
   "name": "python3"
  },
  "language_info": {
   "codemirror_mode": {
    "name": "ipython",
    "version": 3
   },
   "file_extension": ".py",
   "mimetype": "text/x-python",
   "name": "python",
   "nbconvert_exporter": "python",
   "pygments_lexer": "ipython3",
   "version": "3.9.0"
  }
 },
 "nbformat": 4,
 "nbformat_minor": 5
}
