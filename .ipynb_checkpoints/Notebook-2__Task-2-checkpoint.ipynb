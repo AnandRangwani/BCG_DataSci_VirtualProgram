{
 "cells": [
  {
   "cell_type": "code",
   "execution_count": 1,
   "id": "aquatic-parks",
   "metadata": {},
   "outputs": [],
   "source": [
    "import numpy as np\n",
    "import pandas as pd\n",
    "import seaborn as sns\n",
    "import matplotlib.pyplot as plt"
   ]
  },
  {
   "cell_type": "code",
   "execution_count": 2,
   "id": "floppy-consolidation",
   "metadata": {},
   "outputs": [
    {
     "data": {
      "text/html": [
       "<div><div id=b36ce361-a3a1-4a32-af3e-ca60d04a63fc style=\"display:none; background-color:#9D6CFF; color:white; width:200px; height:30px; padding-left:5px; border-radius:4px; flex-direction:row; justify-content:space-around; align-items:center;\" onmouseover=\"this.style.backgroundColor='#BA9BF8'\" onmouseout=\"this.style.backgroundColor='#9D6CFF'\" onclick=\"window.commands?.execute('create-mitosheet-from-dataframe-output');\">See Full Dataframe in Mito</div> <script> if (window.commands.hasCommand('create-mitosheet-from-dataframe-output')) document.getElementById('b36ce361-a3a1-4a32-af3e-ca60d04a63fc').style.display = 'flex' </script> <table border=\"1\" class=\"dataframe\">\n",
       "  <thead>\n",
       "    <tr style=\"text-align: right;\">\n",
       "      <th></th>\n",
       "      <th>id</th>\n",
       "      <th>channel_sales</th>\n",
       "      <th>cons_12m</th>\n",
       "      <th>cons_gas_12m</th>\n",
       "      <th>cons_last_month</th>\n",
       "      <th>date_activ</th>\n",
       "      <th>date_end</th>\n",
       "      <th>date_modif_prod</th>\n",
       "      <th>date_renewal</th>\n",
       "      <th>forecast_cons_12m</th>\n",
       "      <th>...</th>\n",
       "      <th>num_years_antig</th>\n",
       "      <th>origin_up</th>\n",
       "      <th>pow_max</th>\n",
       "      <th>price_p1_var</th>\n",
       "      <th>price_p2_var</th>\n",
       "      <th>price_p3_var</th>\n",
       "      <th>price_p1_fix</th>\n",
       "      <th>price_p2_fix</th>\n",
       "      <th>price_p3_fix</th>\n",
       "      <th>churn</th>\n",
       "    </tr>\n",
       "  </thead>\n",
       "  <tbody>\n",
       "    <tr>\n",
       "      <th>0</th>\n",
       "      <td>48ada52261e7cf58715202705a0451c9</td>\n",
       "      <td>lmkebamcaaclubfxadlmueccxoimlema</td>\n",
       "      <td>309275</td>\n",
       "      <td>0</td>\n",
       "      <td>10025</td>\n",
       "      <td>2012-11-07</td>\n",
       "      <td>2016-11-06</td>\n",
       "      <td>2012-11-07</td>\n",
       "      <td>2015-11-09</td>\n",
       "      <td>26520.30</td>\n",
       "      <td>...</td>\n",
       "      <td>3</td>\n",
       "      <td>ldkssxwpmemidmecebumciepifcamkci</td>\n",
       "      <td>180.000</td>\n",
       "      <td>0.103449</td>\n",
       "      <td>0.092115</td>\n",
       "      <td>0.067241</td>\n",
       "      <td>58.956502</td>\n",
       "      <td>36.356887</td>\n",
       "      <td>8.337051</td>\n",
       "      <td>0</td>\n",
       "    </tr>\n",
       "    <tr>\n",
       "      <th>1</th>\n",
       "      <td>24011ae4ebbe3035111d65fa7c15bc57</td>\n",
       "      <td>foosdfpfkusacimwkcsosbicdxkicaua</td>\n",
       "      <td>0</td>\n",
       "      <td>54946</td>\n",
       "      <td>0</td>\n",
       "      <td>2013-06-15</td>\n",
       "      <td>2016-06-15</td>\n",
       "      <td>NaN</td>\n",
       "      <td>2015-06-23</td>\n",
       "      <td>0.00</td>\n",
       "      <td>...</td>\n",
       "      <td>3</td>\n",
       "      <td>lxidpiddsbxsbosboudacockeimpuepw</td>\n",
       "      <td>43.648</td>\n",
       "      <td>0.122856</td>\n",
       "      <td>0.102137</td>\n",
       "      <td>0.072579</td>\n",
       "      <td>40.640023</td>\n",
       "      <td>24.384011</td>\n",
       "      <td>16.256008</td>\n",
       "      <td>1</td>\n",
       "    </tr>\n",
       "    <tr>\n",
       "      <th>2</th>\n",
       "      <td>d29c2c54acc38ff3c0614d0a653813dd</td>\n",
       "      <td>NaN</td>\n",
       "      <td>4660</td>\n",
       "      <td>0</td>\n",
       "      <td>0</td>\n",
       "      <td>2009-08-21</td>\n",
       "      <td>2016-08-30</td>\n",
       "      <td>2009-08-21</td>\n",
       "      <td>2015-08-31</td>\n",
       "      <td>189.95</td>\n",
       "      <td>...</td>\n",
       "      <td>6</td>\n",
       "      <td>kamkkxfxxuwbdslkwifmmcsiusiuosws</td>\n",
       "      <td>13.800</td>\n",
       "      <td>0.149934</td>\n",
       "      <td>0.000000</td>\n",
       "      <td>0.000000</td>\n",
       "      <td>44.315416</td>\n",
       "      <td>0.000000</td>\n",
       "      <td>0.000000</td>\n",
       "      <td>0</td>\n",
       "    </tr>\n",
       "    <tr>\n",
       "      <th>3</th>\n",
       "      <td>764c75f661154dac3a6c254cd082ea7d</td>\n",
       "      <td>foosdfpfkusacimwkcsosbicdxkicaua</td>\n",
       "      <td>544</td>\n",
       "      <td>0</td>\n",
       "      <td>0</td>\n",
       "      <td>2010-04-16</td>\n",
       "      <td>2016-04-16</td>\n",
       "      <td>2010-04-16</td>\n",
       "      <td>2015-04-17</td>\n",
       "      <td>47.96</td>\n",
       "      <td>...</td>\n",
       "      <td>6</td>\n",
       "      <td>kamkkxfxxuwbdslkwifmmcsiusiuosws</td>\n",
       "      <td>13.856</td>\n",
       "      <td>0.170512</td>\n",
       "      <td>0.088421</td>\n",
       "      <td>0.000000</td>\n",
       "      <td>44.385450</td>\n",
       "      <td>0.000000</td>\n",
       "      <td>0.000000</td>\n",
       "      <td>0</td>\n",
       "    </tr>\n",
       "    <tr>\n",
       "      <th>4</th>\n",
       "      <td>bba03439a292a1e166f80264c16191cb</td>\n",
       "      <td>lmkebamcaaclubfxadlmueccxoimlema</td>\n",
       "      <td>1584</td>\n",
       "      <td>0</td>\n",
       "      <td>0</td>\n",
       "      <td>2010-03-30</td>\n",
       "      <td>2016-03-30</td>\n",
       "      <td>2010-03-30</td>\n",
       "      <td>2015-03-31</td>\n",
       "      <td>240.04</td>\n",
       "      <td>...</td>\n",
       "      <td>6</td>\n",
       "      <td>kamkkxfxxuwbdslkwifmmcsiusiuosws</td>\n",
       "      <td>13.200</td>\n",
       "      <td>0.151210</td>\n",
       "      <td>0.000000</td>\n",
       "      <td>0.000000</td>\n",
       "      <td>44.400265</td>\n",
       "      <td>0.000000</td>\n",
       "      <td>0.000000</td>\n",
       "      <td>0</td>\n",
       "    </tr>\n",
       "  </tbody>\n",
       "</table></div>"
      ],
      "text/plain": [
       "                                 id                     channel_sales  \\\n",
       "0  48ada52261e7cf58715202705a0451c9  lmkebamcaaclubfxadlmueccxoimlema   \n",
       "1  24011ae4ebbe3035111d65fa7c15bc57  foosdfpfkusacimwkcsosbicdxkicaua   \n",
       "2  d29c2c54acc38ff3c0614d0a653813dd                               NaN   \n",
       "3  764c75f661154dac3a6c254cd082ea7d  foosdfpfkusacimwkcsosbicdxkicaua   \n",
       "4  bba03439a292a1e166f80264c16191cb  lmkebamcaaclubfxadlmueccxoimlema   \n",
       "\n",
       "   cons_12m  cons_gas_12m  cons_last_month  date_activ    date_end  \\\n",
       "0    309275             0            10025  2012-11-07  2016-11-06   \n",
       "1         0         54946                0  2013-06-15  2016-06-15   \n",
       "2      4660             0                0  2009-08-21  2016-08-30   \n",
       "3       544             0                0  2010-04-16  2016-04-16   \n",
       "4      1584             0                0  2010-03-30  2016-03-30   \n",
       "\n",
       "  date_modif_prod date_renewal  forecast_cons_12m  ...  num_years_antig  \\\n",
       "0      2012-11-07   2015-11-09           26520.30  ...                3   \n",
       "1             NaN   2015-06-23               0.00  ...                3   \n",
       "2      2009-08-21   2015-08-31             189.95  ...                6   \n",
       "3      2010-04-16   2015-04-17              47.96  ...                6   \n",
       "4      2010-03-30   2015-03-31             240.04  ...                6   \n",
       "\n",
       "                          origin_up  pow_max  price_p1_var  price_p2_var  \\\n",
       "0  ldkssxwpmemidmecebumciepifcamkci  180.000      0.103449      0.092115   \n",
       "1  lxidpiddsbxsbosboudacockeimpuepw   43.648      0.122856      0.102137   \n",
       "2  kamkkxfxxuwbdslkwifmmcsiusiuosws   13.800      0.149934      0.000000   \n",
       "3  kamkkxfxxuwbdslkwifmmcsiusiuosws   13.856      0.170512      0.088421   \n",
       "4  kamkkxfxxuwbdslkwifmmcsiusiuosws   13.200      0.151210      0.000000   \n",
       "\n",
       "   price_p3_var price_p1_fix  price_p2_fix  price_p3_fix  churn  \n",
       "0      0.067241    58.956502     36.356887      8.337051      0  \n",
       "1      0.072579    40.640023     24.384011     16.256008      1  \n",
       "2      0.000000    44.315416      0.000000      0.000000      0  \n",
       "3      0.000000    44.385450      0.000000      0.000000      0  \n",
       "4      0.000000    44.400265      0.000000      0.000000      0  \n",
       "\n",
       "[5 rows x 32 columns]"
      ]
     },
     "execution_count": 2,
     "metadata": {},
     "output_type": "execute_result"
    }
   ],
   "source": [
    "df=pd.read_csv('merged_data_training.csv',index_col=0)\n",
    "df.head()"
   ]
  },
  {
   "cell_type": "code",
   "execution_count": 3,
   "id": "contained-professional",
   "metadata": {},
   "outputs": [
    {
     "name": "stdout",
     "output_type": "stream",
     "text": [
      "<class 'pandas.core.frame.DataFrame'>\n",
      "Int64Index: 16094 entries, 0 to 16093\n",
      "Data columns (total 32 columns):\n",
      " #   Column                    Non-Null Count  Dtype  \n",
      "---  ------                    --------------  -----  \n",
      " 0   id                        16094 non-null  object \n",
      " 1   channel_sales             11877 non-null  object \n",
      " 2   cons_12m                  16094 non-null  int64  \n",
      " 3   cons_gas_12m              16094 non-null  int64  \n",
      " 4   cons_last_month           16094 non-null  int64  \n",
      " 5   date_activ                16094 non-null  object \n",
      " 6   date_end                  16092 non-null  object \n",
      " 7   date_modif_prod           15938 non-null  object \n",
      " 8   date_renewal              16054 non-null  object \n",
      " 9   forecast_cons_12m         16094 non-null  float64\n",
      " 10  forecast_cons_year        16094 non-null  int64  \n",
      " 11  forecast_discount_energy  15970 non-null  float64\n",
      " 12  forecast_meter_rent_12m   16094 non-null  float64\n",
      " 13  forecast_price_energy_p1  15970 non-null  float64\n",
      " 14  forecast_price_energy_p2  15970 non-null  float64\n",
      " 15  forecast_price_pow_p1     15970 non-null  float64\n",
      " 16  has_gas                   16094 non-null  object \n",
      " 17  imp_cons                  16094 non-null  float64\n",
      " 18  margin_gross_pow_ele      16081 non-null  float64\n",
      " 19  margin_net_pow_ele        16081 non-null  float64\n",
      " 20  nb_prod_act               16094 non-null  int64  \n",
      " 21  net_margin                16079 non-null  float64\n",
      " 22  num_years_antig           16094 non-null  int64  \n",
      " 23  origin_up                 16007 non-null  object \n",
      " 24  pow_max                   16091 non-null  float64\n",
      " 25  price_p1_var              16094 non-null  float64\n",
      " 26  price_p2_var              16094 non-null  float64\n",
      " 27  price_p3_var              16094 non-null  float64\n",
      " 28  price_p1_fix              16094 non-null  float64\n",
      " 29  price_p2_fix              16094 non-null  float64\n",
      " 30  price_p3_fix              16094 non-null  float64\n",
      " 31  churn                     16094 non-null  int64  \n",
      "dtypes: float64(17), int64(7), object(8)\n",
      "memory usage: 4.1+ MB\n"
     ]
    }
   ],
   "source": [
    "df.info()"
   ]
  },
  {
   "cell_type": "code",
   "execution_count": 4,
   "id": "moved-february",
   "metadata": {},
   "outputs": [],
   "source": [
    "# Taking average of price_p1_var,price_p2_var,price_p3_var and average of price_p1_fix,price_p2_fix,price_p3_fix.\n",
    "df['avg_price_energy']=(df.price_p1_var + df.price_p2_var + df.price_p3_var)/3\n",
    "df.drop(['price_p1_var','price_p2_var','price_p3_var'],axis=1,inplace=True)\n",
    "df['avg_price_power']=(df.price_p1_fix + df.price_p2_fix + df.price_p3_fix)/3\n",
    "df.drop(['price_p1_fix','price_p2_fix','price_p3_fix'],axis=1,inplace=True)"
   ]
  },
  {
   "cell_type": "code",
   "execution_count": 5,
   "id": "attached-allen",
   "metadata": {},
   "outputs": [
    {
     "data": {
      "text/html": [
       "<div><div id=4d35a72e-ba89-42df-9c64-145844c6f81d style=\"display:none; background-color:#9D6CFF; color:white; width:200px; height:30px; padding-left:5px; border-radius:4px; flex-direction:row; justify-content:space-around; align-items:center;\" onmouseover=\"this.style.backgroundColor='#BA9BF8'\" onmouseout=\"this.style.backgroundColor='#9D6CFF'\" onclick=\"window.commands?.execute('create-mitosheet-from-dataframe-output');\">See Full Dataframe in Mito</div> <script> if (window.commands.hasCommand('create-mitosheet-from-dataframe-output')) document.getElementById('4d35a72e-ba89-42df-9c64-145844c6f81d').style.display = 'flex' </script> <table border=\"1\" class=\"dataframe\">\n",
       "  <thead>\n",
       "    <tr style=\"text-align: right;\">\n",
       "      <th></th>\n",
       "      <th>cons_12m</th>\n",
       "      <th>cons_gas_12m</th>\n",
       "      <th>cons_last_month</th>\n",
       "      <th>forecast_cons_12m</th>\n",
       "      <th>forecast_cons_year</th>\n",
       "      <th>forecast_discount_energy</th>\n",
       "      <th>forecast_meter_rent_12m</th>\n",
       "      <th>forecast_price_energy_p1</th>\n",
       "      <th>forecast_price_energy_p2</th>\n",
       "      <th>forecast_price_pow_p1</th>\n",
       "      <th>imp_cons</th>\n",
       "      <th>margin_gross_pow_ele</th>\n",
       "      <th>margin_net_pow_ele</th>\n",
       "      <th>nb_prod_act</th>\n",
       "      <th>net_margin</th>\n",
       "      <th>num_years_antig</th>\n",
       "      <th>pow_max</th>\n",
       "      <th>churn</th>\n",
       "      <th>avg_price_energy</th>\n",
       "      <th>avg_price_power</th>\n",
       "    </tr>\n",
       "  </thead>\n",
       "  <tbody>\n",
       "    <tr>\n",
       "      <th>count</th>\n",
       "      <td>1.609400e+04</td>\n",
       "      <td>1.609400e+04</td>\n",
       "      <td>1.609400e+04</td>\n",
       "      <td>16094.000000</td>\n",
       "      <td>16094.000000</td>\n",
       "      <td>15970.000000</td>\n",
       "      <td>16094.000000</td>\n",
       "      <td>15970.000000</td>\n",
       "      <td>15970.000000</td>\n",
       "      <td>15970.000000</td>\n",
       "      <td>16094.000000</td>\n",
       "      <td>16081.000000</td>\n",
       "      <td>16081.000000</td>\n",
       "      <td>16094.000000</td>\n",
       "      <td>16079.000000</td>\n",
       "      <td>16094.000000</td>\n",
       "      <td>16091.000000</td>\n",
       "      <td>16094.000000</td>\n",
       "      <td>16094.000000</td>\n",
       "      <td>16094.000000</td>\n",
       "    </tr>\n",
       "    <tr>\n",
       "      <th>mean</th>\n",
       "      <td>1.948281e+05</td>\n",
       "      <td>3.191560e+04</td>\n",
       "      <td>1.946395e+04</td>\n",
       "      <td>2370.850537</td>\n",
       "      <td>1907.584255</td>\n",
       "      <td>0.991547</td>\n",
       "      <td>70.318682</td>\n",
       "      <td>0.135901</td>\n",
       "      <td>0.052951</td>\n",
       "      <td>43.533496</td>\n",
       "      <td>196.147819</td>\n",
       "      <td>22.465077</td>\n",
       "      <td>21.462994</td>\n",
       "      <td>1.347831</td>\n",
       "      <td>217.934866</td>\n",
       "      <td>5.030384</td>\n",
       "      <td>20.595132</td>\n",
       "      <td>0.099043</td>\n",
       "      <td>0.075359</td>\n",
       "      <td>20.156804</td>\n",
       "    </tr>\n",
       "    <tr>\n",
       "      <th>std</th>\n",
       "      <td>6.795540e+05</td>\n",
       "      <td>1.775991e+05</td>\n",
       "      <td>8.236159e+04</td>\n",
       "      <td>4035.249847</td>\n",
       "      <td>5257.648434</td>\n",
       "      <td>5.160969</td>\n",
       "      <td>79.024274</td>\n",
       "      <td>0.026252</td>\n",
       "      <td>0.048617</td>\n",
       "      <td>5.212252</td>\n",
       "      <td>494.392863</td>\n",
       "      <td>23.701025</td>\n",
       "      <td>27.918053</td>\n",
       "      <td>1.459894</td>\n",
       "      <td>366.681622</td>\n",
       "      <td>1.675468</td>\n",
       "      <td>21.756725</td>\n",
       "      <td>0.298729</td>\n",
       "      <td>0.024589</td>\n",
       "      <td>6.799253</td>\n",
       "    </tr>\n",
       "    <tr>\n",
       "      <th>min</th>\n",
       "      <td>-1.252760e+05</td>\n",
       "      <td>-3.037000e+03</td>\n",
       "      <td>-9.138600e+04</td>\n",
       "      <td>-16689.260000</td>\n",
       "      <td>-85627.000000</td>\n",
       "      <td>0.000000</td>\n",
       "      <td>-242.960000</td>\n",
       "      <td>0.000000</td>\n",
       "      <td>0.000000</td>\n",
       "      <td>-0.122184</td>\n",
       "      <td>-9038.210000</td>\n",
       "      <td>-525.540000</td>\n",
       "      <td>-615.660000</td>\n",
       "      <td>1.000000</td>\n",
       "      <td>-4148.990000</td>\n",
       "      <td>1.000000</td>\n",
       "      <td>1.000000</td>\n",
       "      <td>0.000000</td>\n",
       "      <td>0.000000</td>\n",
       "      <td>0.000000</td>\n",
       "    </tr>\n",
       "    <tr>\n",
       "      <th>25%</th>\n",
       "      <td>5.909000e+03</td>\n",
       "      <td>0.000000e+00</td>\n",
       "      <td>0.000000e+00</td>\n",
       "      <td>513.370000</td>\n",
       "      <td>0.000000</td>\n",
       "      <td>0.000000</td>\n",
       "      <td>16.230000</td>\n",
       "      <td>0.115237</td>\n",
       "      <td>0.000000</td>\n",
       "      <td>40.606701</td>\n",
       "      <td>0.000000</td>\n",
       "      <td>12.000000</td>\n",
       "      <td>11.950000</td>\n",
       "      <td>1.000000</td>\n",
       "      <td>51.970000</td>\n",
       "      <td>4.000000</td>\n",
       "      <td>12.500000</td>\n",
       "      <td>0.000000</td>\n",
       "      <td>0.049878</td>\n",
       "      <td>14.780335</td>\n",
       "    </tr>\n",
       "    <tr>\n",
       "      <th>50%</th>\n",
       "      <td>1.533450e+04</td>\n",
       "      <td>0.000000e+00</td>\n",
       "      <td>9.010000e+02</td>\n",
       "      <td>1179.425000</td>\n",
       "      <td>378.500000</td>\n",
       "      <td>0.000000</td>\n",
       "      <td>19.440000</td>\n",
       "      <td>0.142881</td>\n",
       "      <td>0.086163</td>\n",
       "      <td>44.311378</td>\n",
       "      <td>44.530000</td>\n",
       "      <td>21.090000</td>\n",
       "      <td>20.970000</td>\n",
       "      <td>1.000000</td>\n",
       "      <td>119.680000</td>\n",
       "      <td>5.000000</td>\n",
       "      <td>13.856000</td>\n",
       "      <td>0.000000</td>\n",
       "      <td>0.084637</td>\n",
       "      <td>14.814903</td>\n",
       "    </tr>\n",
       "    <tr>\n",
       "      <th>75%</th>\n",
       "      <td>5.022450e+04</td>\n",
       "      <td>0.000000e+00</td>\n",
       "      <td>4.127000e+03</td>\n",
       "      <td>2692.132500</td>\n",
       "      <td>1994.750000</td>\n",
       "      <td>0.000000</td>\n",
       "      <td>131.470000</td>\n",
       "      <td>0.146348</td>\n",
       "      <td>0.098837</td>\n",
       "      <td>44.311378</td>\n",
       "      <td>218.130000</td>\n",
       "      <td>29.640000</td>\n",
       "      <td>29.640000</td>\n",
       "      <td>1.000000</td>\n",
       "      <td>275.785000</td>\n",
       "      <td>6.000000</td>\n",
       "      <td>19.800000</td>\n",
       "      <td>0.000000</td>\n",
       "      <td>0.099359</td>\n",
       "      <td>27.098285</td>\n",
       "    </tr>\n",
       "    <tr>\n",
       "      <th>max</th>\n",
       "      <td>1.609711e+07</td>\n",
       "      <td>4.188440e+06</td>\n",
       "      <td>4.538720e+06</td>\n",
       "      <td>103801.930000</td>\n",
       "      <td>175375.000000</td>\n",
       "      <td>50.000000</td>\n",
       "      <td>2411.690000</td>\n",
       "      <td>0.273963</td>\n",
       "      <td>0.195975</td>\n",
       "      <td>59.444710</td>\n",
       "      <td>15042.790000</td>\n",
       "      <td>374.640000</td>\n",
       "      <td>374.640000</td>\n",
       "      <td>32.000000</td>\n",
       "      <td>24570.650000</td>\n",
       "      <td>16.000000</td>\n",
       "      <td>500.000000</td>\n",
       "      <td>1.000000</td>\n",
       "      <td>0.148651</td>\n",
       "      <td>34.677296</td>\n",
       "    </tr>\n",
       "  </tbody>\n",
       "</table></div>"
      ],
      "text/plain": [
       "           cons_12m  cons_gas_12m  cons_last_month  forecast_cons_12m  \\\n",
       "count  1.609400e+04  1.609400e+04     1.609400e+04       16094.000000   \n",
       "mean   1.948281e+05  3.191560e+04     1.946395e+04        2370.850537   \n",
       "std    6.795540e+05  1.775991e+05     8.236159e+04        4035.249847   \n",
       "min   -1.252760e+05 -3.037000e+03    -9.138600e+04      -16689.260000   \n",
       "25%    5.909000e+03  0.000000e+00     0.000000e+00         513.370000   \n",
       "50%    1.533450e+04  0.000000e+00     9.010000e+02        1179.425000   \n",
       "75%    5.022450e+04  0.000000e+00     4.127000e+03        2692.132500   \n",
       "max    1.609711e+07  4.188440e+06     4.538720e+06      103801.930000   \n",
       "\n",
       "       forecast_cons_year  forecast_discount_energy  forecast_meter_rent_12m  \\\n",
       "count        16094.000000              15970.000000             16094.000000   \n",
       "mean          1907.584255                  0.991547                70.318682   \n",
       "std           5257.648434                  5.160969                79.024274   \n",
       "min         -85627.000000                  0.000000              -242.960000   \n",
       "25%              0.000000                  0.000000                16.230000   \n",
       "50%            378.500000                  0.000000                19.440000   \n",
       "75%           1994.750000                  0.000000               131.470000   \n",
       "max         175375.000000                 50.000000              2411.690000   \n",
       "\n",
       "       forecast_price_energy_p1  forecast_price_energy_p2  \\\n",
       "count              15970.000000              15970.000000   \n",
       "mean                   0.135901                  0.052951   \n",
       "std                    0.026252                  0.048617   \n",
       "min                    0.000000                  0.000000   \n",
       "25%                    0.115237                  0.000000   \n",
       "50%                    0.142881                  0.086163   \n",
       "75%                    0.146348                  0.098837   \n",
       "max                    0.273963                  0.195975   \n",
       "\n",
       "       forecast_price_pow_p1      imp_cons  margin_gross_pow_ele  \\\n",
       "count           15970.000000  16094.000000          16081.000000   \n",
       "mean               43.533496    196.147819             22.465077   \n",
       "std                 5.212252    494.392863             23.701025   \n",
       "min                -0.122184  -9038.210000           -525.540000   \n",
       "25%                40.606701      0.000000             12.000000   \n",
       "50%                44.311378     44.530000             21.090000   \n",
       "75%                44.311378    218.130000             29.640000   \n",
       "max                59.444710  15042.790000            374.640000   \n",
       "\n",
       "       margin_net_pow_ele   nb_prod_act    net_margin  num_years_antig  \\\n",
       "count        16081.000000  16094.000000  16079.000000     16094.000000   \n",
       "mean            21.462994      1.347831    217.934866         5.030384   \n",
       "std             27.918053      1.459894    366.681622         1.675468   \n",
       "min           -615.660000      1.000000  -4148.990000         1.000000   \n",
       "25%             11.950000      1.000000     51.970000         4.000000   \n",
       "50%             20.970000      1.000000    119.680000         5.000000   \n",
       "75%             29.640000      1.000000    275.785000         6.000000   \n",
       "max            374.640000     32.000000  24570.650000        16.000000   \n",
       "\n",
       "            pow_max         churn  avg_price_energy  avg_price_power  \n",
       "count  16091.000000  16094.000000      16094.000000     16094.000000  \n",
       "mean      20.595132      0.099043          0.075359        20.156804  \n",
       "std       21.756725      0.298729          0.024589         6.799253  \n",
       "min        1.000000      0.000000          0.000000         0.000000  \n",
       "25%       12.500000      0.000000          0.049878        14.780335  \n",
       "50%       13.856000      0.000000          0.084637        14.814903  \n",
       "75%       19.800000      0.000000          0.099359        27.098285  \n",
       "max      500.000000      1.000000          0.148651        34.677296  "
      ]
     },
     "execution_count": 5,
     "metadata": {},
     "output_type": "execute_result"
    }
   ],
   "source": [
    "df.describe()"
   ]
  },
  {
   "cell_type": "markdown",
   "id": "stuck-network",
   "metadata": {},
   "source": [
    "### Handling missing values in channel_sales"
   ]
  },
  {
   "cell_type": "code",
   "execution_count": 6,
   "id": "chief-contributor",
   "metadata": {},
   "outputs": [
    {
     "data": {
      "text/plain": [
       "foosdfpfkusacimwkcsosbicdxkicaua    7376\n",
       "lmkebamcaaclubfxadlmueccxoimlema    2073\n",
       "usilxuppasemubllopkaafesmlibmsdf    1444\n",
       "ewpakwlliwisiwduibdlfmalxowmwpci     966\n",
       "sddiedcslfslkckwlfkdpoeeailfpeds      12\n",
       "epumfxlbckeskwekxbiuasklxalciiuu       4\n",
       "fixdbufsefwooaasfcxdxadsiekoceaa       2\n",
       "Name: channel_sales, dtype: int64"
      ]
     },
     "execution_count": 6,
     "metadata": {},
     "output_type": "execute_result"
    }
   ],
   "source": [
    "df.channel_sales.value_counts()"
   ]
  },
  {
   "cell_type": "code",
   "execution_count": 7,
   "id": "specific-damages",
   "metadata": {},
   "outputs": [
    {
     "data": {
      "text/plain": [
       "channel_sales\n",
       "epumfxlbckeskwekxbiuasklxalciiuu    0.000000\n",
       "ewpakwlliwisiwduibdlfmalxowmwpci    0.084886\n",
       "fixdbufsefwooaasfcxdxadsiekoceaa    0.000000\n",
       "foosdfpfkusacimwkcsosbicdxkicaua    0.125000\n",
       "lmkebamcaaclubfxadlmueccxoimlema    0.055958\n",
       "sddiedcslfslkckwlfkdpoeeailfpeds    0.000000\n",
       "usilxuppasemubllopkaafesmlibmsdf    0.103878\n",
       "Name: churn, dtype: float64"
      ]
     },
     "execution_count": 7,
     "metadata": {},
     "output_type": "execute_result"
    }
   ],
   "source": [
    "df.groupby(['channel_sales'])['churn'].mean()"
   ]
  },
  {
   "cell_type": "code",
   "execution_count": 8,
   "id": "major-afghanistan",
   "metadata": {},
   "outputs": [
    {
     "data": {
      "text/plain": [
       "0.07683187099834005"
      ]
     },
     "execution_count": 8,
     "metadata": {},
     "output_type": "execute_result"
    }
   ],
   "source": [
    "df[df.channel_sales.isnull()].churn.mean()"
   ]
  },
  {
   "cell_type": "code",
   "execution_count": 9,
   "id": "generous-discretion",
   "metadata": {},
   "outputs": [
    {
     "data": {
      "text/plain": [
       "4217"
      ]
     },
     "execution_count": 9,
     "metadata": {},
     "output_type": "execute_result"
    }
   ],
   "source": [
    "# There are 4217 rows in df for which channel_sales value is null.\n",
    "# We cannot put mode value of channeL_sales in place of null values, as we can see that clients having channel_sales as \n",
    "# 'foosdfpfkusacimwkcsosbicdxkicaua' are 12.5% likely to churn, while clients having null values of channel_sales, are only\n",
    "# 7.6% likely to churn.\n",
    "df.loc[df.channel_sales.isnull()]['churn'].count()"
   ]
  },
  {
   "cell_type": "code",
   "execution_count": 10,
   "id": "patient-baseline",
   "metadata": {},
   "outputs": [
    {
     "name": "stderr",
     "output_type": "stream",
     "text": [
      "c:\\users\\91709\\appdata\\local\\programs\\python\\python39\\lib\\site-packages\\pandas\\core\\indexing.py:1637: SettingWithCopyWarning: \n",
      "A value is trying to be set on a copy of a slice from a DataFrame\n",
      "\n",
      "See the caveats in the documentation: https://pandas.pydata.org/pandas-docs/stable/user_guide/indexing.html#returning-a-view-versus-a-copy\n",
      "  self._setitem_single_block(indexer, value, name)\n"
     ]
    },
    {
     "data": {
      "text/plain": [
       "0"
      ]
     },
     "execution_count": 10,
     "metadata": {},
     "output_type": "execute_result"
    }
   ],
   "source": [
    "df.channel_sales.loc[df.channel_sales.isnull()]='unknown'\n",
    "df.channel_sales.isnull().sum()"
   ]
  },
  {
   "cell_type": "markdown",
   "id": "coastal-folder",
   "metadata": {},
   "source": [
    "### converting has_gas into 0s and 1s."
   ]
  },
  {
   "cell_type": "code",
   "execution_count": 11,
   "id": "committed-oregon",
   "metadata": {},
   "outputs": [],
   "source": [
    "df.has_gas.replace(['f','t'],[0,1],inplace=True)"
   ]
  },
  {
   "cell_type": "code",
   "execution_count": 12,
   "id": "spread-beach",
   "metadata": {},
   "outputs": [
    {
     "data": {
      "text/plain": [
       "dtype('int64')"
      ]
     },
     "execution_count": 12,
     "metadata": {},
     "output_type": "execute_result"
    }
   ],
   "source": [
    "df.has_gas.dtype"
   ]
  },
  {
   "cell_type": "markdown",
   "id": "creative-selection",
   "metadata": {},
   "source": [
    "### converting all 'date...' columns to DateTime datatype."
   ]
  },
  {
   "cell_type": "code",
   "execution_count": 13,
   "id": "fabulous-procedure",
   "metadata": {},
   "outputs": [],
   "source": [
    "df.date_activ=pd.to_datetime(df.date_activ,format='%Y-%m-%d')\n",
    "df.date_end=pd.to_datetime(df.date_end,format='%Y-%m-%d')\n",
    "df.date_modif_prod=pd.to_datetime(df.date_modif_prod,format='%Y-%m-%d')\n",
    "df.date_renewal=pd.to_datetime(df.date_renewal,format='%Y-%m-%d')"
   ]
  },
  {
   "cell_type": "code",
   "execution_count": 14,
   "id": "placed-passenger",
   "metadata": {},
   "outputs": [
    {
     "name": "stdout",
     "output_type": "stream",
     "text": [
      "<class 'pandas.core.frame.DataFrame'>\n",
      "Int64Index: 16094 entries, 0 to 16093\n",
      "Data columns (total 28 columns):\n",
      " #   Column                    Non-Null Count  Dtype         \n",
      "---  ------                    --------------  -----         \n",
      " 0   id                        16094 non-null  object        \n",
      " 1   channel_sales             16094 non-null  object        \n",
      " 2   cons_12m                  16094 non-null  int64         \n",
      " 3   cons_gas_12m              16094 non-null  int64         \n",
      " 4   cons_last_month           16094 non-null  int64         \n",
      " 5   date_activ                16094 non-null  datetime64[ns]\n",
      " 6   date_end                  16092 non-null  datetime64[ns]\n",
      " 7   date_modif_prod           15938 non-null  datetime64[ns]\n",
      " 8   date_renewal              16054 non-null  datetime64[ns]\n",
      " 9   forecast_cons_12m         16094 non-null  float64       \n",
      " 10  forecast_cons_year        16094 non-null  int64         \n",
      " 11  forecast_discount_energy  15970 non-null  float64       \n",
      " 12  forecast_meter_rent_12m   16094 non-null  float64       \n",
      " 13  forecast_price_energy_p1  15970 non-null  float64       \n",
      " 14  forecast_price_energy_p2  15970 non-null  float64       \n",
      " 15  forecast_price_pow_p1     15970 non-null  float64       \n",
      " 16  has_gas                   16094 non-null  int64         \n",
      " 17  imp_cons                  16094 non-null  float64       \n",
      " 18  margin_gross_pow_ele      16081 non-null  float64       \n",
      " 19  margin_net_pow_ele        16081 non-null  float64       \n",
      " 20  nb_prod_act               16094 non-null  int64         \n",
      " 21  net_margin                16079 non-null  float64       \n",
      " 22  num_years_antig           16094 non-null  int64         \n",
      " 23  origin_up                 16007 non-null  object        \n",
      " 24  pow_max                   16091 non-null  float64       \n",
      " 25  churn                     16094 non-null  int64         \n",
      " 26  avg_price_energy          16094 non-null  float64       \n",
      " 27  avg_price_power           16094 non-null  float64       \n",
      "dtypes: datetime64[ns](4), float64(13), int64(8), object(3)\n",
      "memory usage: 3.6+ MB\n"
     ]
    }
   ],
   "source": [
    "df.info()"
   ]
  },
  {
   "cell_type": "code",
   "execution_count": 15,
   "id": "rising-listing",
   "metadata": {},
   "outputs": [
    {
     "data": {
      "text/plain": [
       "0        ldkssxwpmemidmecebumciepifcamkci\n",
       "1        lxidpiddsbxsbosboudacockeimpuepw\n",
       "2        kamkkxfxxuwbdslkwifmmcsiusiuosws\n",
       "3        kamkkxfxxuwbdslkwifmmcsiusiuosws\n",
       "4        kamkkxfxxuwbdslkwifmmcsiusiuosws\n",
       "                       ...               \n",
       "16089    lxidpiddsbxsbosboudacockeimpuepw\n",
       "16090    lxidpiddsbxsbosboudacockeimpuepw\n",
       "16091    lxidpiddsbxsbosboudacockeimpuepw\n",
       "16092    lxidpiddsbxsbosboudacockeimpuepw\n",
       "16093    ldkssxwpmemidmecebumciepifcamkci\n",
       "Name: origin_up, Length: 16094, dtype: object"
      ]
     },
     "execution_count": 15,
     "metadata": {},
     "output_type": "execute_result"
    }
   ],
   "source": [
    "df.origin_up"
   ]
  },
  {
   "cell_type": "code",
   "execution_count": 16,
   "id": "mysterious-proposition",
   "metadata": {},
   "outputs": [
    {
     "data": {
      "text/plain": [
       "lxidpiddsbxsbosboudacockeimpuepw    7824\n",
       "kamkkxfxxuwbdslkwifmmcsiusiuosws    4517\n",
       "ldkssxwpmemidmecebumciepifcamkci    3663\n",
       "usapbepcfoloekilkwsdiboslwaxobdp       2\n",
       "ewxeelcelemmiwuafmddpobolfuxioce       1\n",
       "Name: origin_up, dtype: int64"
      ]
     },
     "execution_count": 16,
     "metadata": {},
     "output_type": "execute_result"
    }
   ],
   "source": [
    "df.origin_up.value_counts()"
   ]
  },
  {
   "cell_type": "code",
   "execution_count": 17,
   "id": "wicked-customs",
   "metadata": {},
   "outputs": [
    {
     "data": {
      "text/plain": [
       "87"
      ]
     },
     "execution_count": 17,
     "metadata": {},
     "output_type": "execute_result"
    }
   ],
   "source": [
    "df.origin_up.isnull().sum()"
   ]
  },
  {
   "cell_type": "code",
   "execution_count": 18,
   "id": "dominant-warrant",
   "metadata": {},
   "outputs": [],
   "source": [
    "# As there are only 87 missing values in origin_up column so we replace it with mode value of origin_up.\n",
    "df.origin_up.loc[df.origin_up.isnull()]='lxidpiddsbxsbosboudacockeimpuepw'"
   ]
  },
  {
   "cell_type": "code",
   "execution_count": 19,
   "id": "ultimate-oliver",
   "metadata": {},
   "outputs": [
    {
     "data": {
      "text/plain": [
       "0"
      ]
     },
     "execution_count": 19,
     "metadata": {},
     "output_type": "execute_result"
    }
   ],
   "source": [
    "df.origin_up.isnull().sum()"
   ]
  },
  {
   "cell_type": "code",
   "execution_count": 20,
   "id": "grand-password",
   "metadata": {},
   "outputs": [
    {
     "data": {
      "text/plain": [
       "lxidpiddsbxsbosboudacockeimpuepw    7911\n",
       "kamkkxfxxuwbdslkwifmmcsiusiuosws    4517\n",
       "ldkssxwpmemidmecebumciepifcamkci    3663\n",
       "usapbepcfoloekilkwsdiboslwaxobdp       2\n",
       "ewxeelcelemmiwuafmddpobolfuxioce       1\n",
       "Name: origin_up, dtype: int64"
      ]
     },
     "execution_count": 20,
     "metadata": {},
     "output_type": "execute_result"
    }
   ],
   "source": [
    "df.origin_up.value_counts()"
   ]
  },
  {
   "cell_type": "markdown",
   "id": "interstate-driving",
   "metadata": {},
   "source": [
    "## One hot encoding to convert channel_sales, origin_up columns to categorical feature."
   ]
  },
  {
   "cell_type": "code",
   "execution_count": 21,
   "id": "previous-thickness",
   "metadata": {},
   "outputs": [],
   "source": [
    "df_encoded=pd.get_dummies(data=df,columns=['origin_up','channel_sales'],drop_first=True)"
   ]
  },
  {
   "cell_type": "code",
   "execution_count": 22,
   "id": "selected-stevens",
   "metadata": {},
   "outputs": [
    {
     "name": "stdout",
     "output_type": "stream",
     "text": [
      "<class 'pandas.core.frame.DataFrame'>\n",
      "Int64Index: 16094 entries, 0 to 16093\n",
      "Data columns (total 37 columns):\n",
      " #   Column                                          Non-Null Count  Dtype         \n",
      "---  ------                                          --------------  -----         \n",
      " 0   id                                              16094 non-null  object        \n",
      " 1   cons_12m                                        16094 non-null  int64         \n",
      " 2   cons_gas_12m                                    16094 non-null  int64         \n",
      " 3   cons_last_month                                 16094 non-null  int64         \n",
      " 4   date_activ                                      16094 non-null  datetime64[ns]\n",
      " 5   date_end                                        16092 non-null  datetime64[ns]\n",
      " 6   date_modif_prod                                 15938 non-null  datetime64[ns]\n",
      " 7   date_renewal                                    16054 non-null  datetime64[ns]\n",
      " 8   forecast_cons_12m                               16094 non-null  float64       \n",
      " 9   forecast_cons_year                              16094 non-null  int64         \n",
      " 10  forecast_discount_energy                        15970 non-null  float64       \n",
      " 11  forecast_meter_rent_12m                         16094 non-null  float64       \n",
      " 12  forecast_price_energy_p1                        15970 non-null  float64       \n",
      " 13  forecast_price_energy_p2                        15970 non-null  float64       \n",
      " 14  forecast_price_pow_p1                           15970 non-null  float64       \n",
      " 15  has_gas                                         16094 non-null  int64         \n",
      " 16  imp_cons                                        16094 non-null  float64       \n",
      " 17  margin_gross_pow_ele                            16081 non-null  float64       \n",
      " 18  margin_net_pow_ele                              16081 non-null  float64       \n",
      " 19  nb_prod_act                                     16094 non-null  int64         \n",
      " 20  net_margin                                      16079 non-null  float64       \n",
      " 21  num_years_antig                                 16094 non-null  int64         \n",
      " 22  pow_max                                         16091 non-null  float64       \n",
      " 23  churn                                           16094 non-null  int64         \n",
      " 24  avg_price_energy                                16094 non-null  float64       \n",
      " 25  avg_price_power                                 16094 non-null  float64       \n",
      " 26  origin_up_kamkkxfxxuwbdslkwifmmcsiusiuosws      16094 non-null  uint8         \n",
      " 27  origin_up_ldkssxwpmemidmecebumciepifcamkci      16094 non-null  uint8         \n",
      " 28  origin_up_lxidpiddsbxsbosboudacockeimpuepw      16094 non-null  uint8         \n",
      " 29  origin_up_usapbepcfoloekilkwsdiboslwaxobdp      16094 non-null  uint8         \n",
      " 30  channel_sales_ewpakwlliwisiwduibdlfmalxowmwpci  16094 non-null  uint8         \n",
      " 31  channel_sales_fixdbufsefwooaasfcxdxadsiekoceaa  16094 non-null  uint8         \n",
      " 32  channel_sales_foosdfpfkusacimwkcsosbicdxkicaua  16094 non-null  uint8         \n",
      " 33  channel_sales_lmkebamcaaclubfxadlmueccxoimlema  16094 non-null  uint8         \n",
      " 34  channel_sales_sddiedcslfslkckwlfkdpoeeailfpeds  16094 non-null  uint8         \n",
      " 35  channel_sales_unknown                           16094 non-null  uint8         \n",
      " 36  channel_sales_usilxuppasemubllopkaafesmlibmsdf  16094 non-null  uint8         \n",
      "dtypes: datetime64[ns](4), float64(13), int64(8), object(1), uint8(11)\n",
      "memory usage: 3.5+ MB\n"
     ]
    }
   ],
   "source": [
    "df_encoded.info()"
   ]
  },
  {
   "cell_type": "code",
   "execution_count": 23,
   "id": "upper-folks",
   "metadata": {},
   "outputs": [],
   "source": [
    "## As we can see that there are only a very few rows having a particular value of channel_sales, origin_up, therefore we can\n",
    "# easily drop that feature after one hot encoding."
   ]
  },
  {
   "cell_type": "code",
   "execution_count": 24,
   "id": "improving-fifty",
   "metadata": {},
   "outputs": [],
   "source": [
    "df_encoded.drop(['channel_sales_sddiedcslfslkckwlfkdpoeeailfpeds','channel_sales_fixdbufsefwooaasfcxdxadsiekoceaa'\n",
    "                ,'origin_up_usapbepcfoloekilkwsdiboslwaxobdp'],axis=1,inplace=True)"
   ]
  },
  {
   "cell_type": "code",
   "execution_count": 25,
   "id": "atlantic-encounter",
   "metadata": {},
   "outputs": [
    {
     "name": "stdout",
     "output_type": "stream",
     "text": [
      "<class 'pandas.core.frame.DataFrame'>\n",
      "Int64Index: 16094 entries, 0 to 16093\n",
      "Data columns (total 34 columns):\n",
      " #   Column                                          Non-Null Count  Dtype         \n",
      "---  ------                                          --------------  -----         \n",
      " 0   id                                              16094 non-null  object        \n",
      " 1   cons_12m                                        16094 non-null  int64         \n",
      " 2   cons_gas_12m                                    16094 non-null  int64         \n",
      " 3   cons_last_month                                 16094 non-null  int64         \n",
      " 4   date_activ                                      16094 non-null  datetime64[ns]\n",
      " 5   date_end                                        16092 non-null  datetime64[ns]\n",
      " 6   date_modif_prod                                 15938 non-null  datetime64[ns]\n",
      " 7   date_renewal                                    16054 non-null  datetime64[ns]\n",
      " 8   forecast_cons_12m                               16094 non-null  float64       \n",
      " 9   forecast_cons_year                              16094 non-null  int64         \n",
      " 10  forecast_discount_energy                        15970 non-null  float64       \n",
      " 11  forecast_meter_rent_12m                         16094 non-null  float64       \n",
      " 12  forecast_price_energy_p1                        15970 non-null  float64       \n",
      " 13  forecast_price_energy_p2                        15970 non-null  float64       \n",
      " 14  forecast_price_pow_p1                           15970 non-null  float64       \n",
      " 15  has_gas                                         16094 non-null  int64         \n",
      " 16  imp_cons                                        16094 non-null  float64       \n",
      " 17  margin_gross_pow_ele                            16081 non-null  float64       \n",
      " 18  margin_net_pow_ele                              16081 non-null  float64       \n",
      " 19  nb_prod_act                                     16094 non-null  int64         \n",
      " 20  net_margin                                      16079 non-null  float64       \n",
      " 21  num_years_antig                                 16094 non-null  int64         \n",
      " 22  pow_max                                         16091 non-null  float64       \n",
      " 23  churn                                           16094 non-null  int64         \n",
      " 24  avg_price_energy                                16094 non-null  float64       \n",
      " 25  avg_price_power                                 16094 non-null  float64       \n",
      " 26  origin_up_kamkkxfxxuwbdslkwifmmcsiusiuosws      16094 non-null  uint8         \n",
      " 27  origin_up_ldkssxwpmemidmecebumciepifcamkci      16094 non-null  uint8         \n",
      " 28  origin_up_lxidpiddsbxsbosboudacockeimpuepw      16094 non-null  uint8         \n",
      " 29  channel_sales_ewpakwlliwisiwduibdlfmalxowmwpci  16094 non-null  uint8         \n",
      " 30  channel_sales_foosdfpfkusacimwkcsosbicdxkicaua  16094 non-null  uint8         \n",
      " 31  channel_sales_lmkebamcaaclubfxadlmueccxoimlema  16094 non-null  uint8         \n",
      " 32  channel_sales_unknown                           16094 non-null  uint8         \n",
      " 33  channel_sales_usilxuppasemubllopkaafesmlibmsdf  16094 non-null  uint8         \n",
      "dtypes: datetime64[ns](4), float64(13), int64(8), object(1), uint8(8)\n",
      "memory usage: 3.4+ MB\n"
     ]
    }
   ],
   "source": [
    "df_encoded.info()"
   ]
  },
  {
   "cell_type": "markdown",
   "id": "joint-preparation",
   "metadata": {},
   "source": [
    "## We can convert all 'date...' columns to float data-type by (year_num)+(month number/100)."
   ]
  },
  {
   "cell_type": "code",
   "execution_count": 26,
   "id": "bronze-holder",
   "metadata": {},
   "outputs": [],
   "source": [
    "df_encoded['date_end']=(df_encoded.date_end.dt.year+df_encoded.date_end.dt.month/100)\n",
    "df_encoded['date_activ']=(df_encoded.date_activ.dt.year+df_encoded.date_activ.dt.month/100)\n",
    "df_encoded['date_modif_prod']=(df_encoded.date_modif_prod.dt.year+df_encoded.date_modif_prod.dt.month/100)\n",
    "df_encoded['date_renewal']=(df_encoded.date_renewal.dt.year+df_encoded.date_renewal.dt.month/100)"
   ]
  },
  {
   "cell_type": "code",
   "execution_count": 27,
   "id": "hungarian-bouquet",
   "metadata": {},
   "outputs": [
    {
     "name": "stdout",
     "output_type": "stream",
     "text": [
      "<class 'pandas.core.frame.DataFrame'>\n",
      "Int64Index: 16094 entries, 0 to 16093\n",
      "Data columns (total 34 columns):\n",
      " #   Column                                          Non-Null Count  Dtype  \n",
      "---  ------                                          --------------  -----  \n",
      " 0   id                                              16094 non-null  object \n",
      " 1   cons_12m                                        16094 non-null  int64  \n",
      " 2   cons_gas_12m                                    16094 non-null  int64  \n",
      " 3   cons_last_month                                 16094 non-null  int64  \n",
      " 4   date_activ                                      16094 non-null  float64\n",
      " 5   date_end                                        16092 non-null  float64\n",
      " 6   date_modif_prod                                 15938 non-null  float64\n",
      " 7   date_renewal                                    16054 non-null  float64\n",
      " 8   forecast_cons_12m                               16094 non-null  float64\n",
      " 9   forecast_cons_year                              16094 non-null  int64  \n",
      " 10  forecast_discount_energy                        15970 non-null  float64\n",
      " 11  forecast_meter_rent_12m                         16094 non-null  float64\n",
      " 12  forecast_price_energy_p1                        15970 non-null  float64\n",
      " 13  forecast_price_energy_p2                        15970 non-null  float64\n",
      " 14  forecast_price_pow_p1                           15970 non-null  float64\n",
      " 15  has_gas                                         16094 non-null  int64  \n",
      " 16  imp_cons                                        16094 non-null  float64\n",
      " 17  margin_gross_pow_ele                            16081 non-null  float64\n",
      " 18  margin_net_pow_ele                              16081 non-null  float64\n",
      " 19  nb_prod_act                                     16094 non-null  int64  \n",
      " 20  net_margin                                      16079 non-null  float64\n",
      " 21  num_years_antig                                 16094 non-null  int64  \n",
      " 22  pow_max                                         16091 non-null  float64\n",
      " 23  churn                                           16094 non-null  int64  \n",
      " 24  avg_price_energy                                16094 non-null  float64\n",
      " 25  avg_price_power                                 16094 non-null  float64\n",
      " 26  origin_up_kamkkxfxxuwbdslkwifmmcsiusiuosws      16094 non-null  uint8  \n",
      " 27  origin_up_ldkssxwpmemidmecebumciepifcamkci      16094 non-null  uint8  \n",
      " 28  origin_up_lxidpiddsbxsbosboudacockeimpuepw      16094 non-null  uint8  \n",
      " 29  channel_sales_ewpakwlliwisiwduibdlfmalxowmwpci  16094 non-null  uint8  \n",
      " 30  channel_sales_foosdfpfkusacimwkcsosbicdxkicaua  16094 non-null  uint8  \n",
      " 31  channel_sales_lmkebamcaaclubfxadlmueccxoimlema  16094 non-null  uint8  \n",
      " 32  channel_sales_unknown                           16094 non-null  uint8  \n",
      " 33  channel_sales_usilxuppasemubllopkaafesmlibmsdf  16094 non-null  uint8  \n",
      "dtypes: float64(17), int64(8), object(1), uint8(8)\n",
      "memory usage: 3.4+ MB\n"
     ]
    }
   ],
   "source": [
    "df_encoded.info()"
   ]
  },
  {
   "cell_type": "code",
   "execution_count": 28,
   "id": "conservative-championship",
   "metadata": {},
   "outputs": [
    {
     "data": {
      "text/plain": [
       "id                                                  0\n",
       "cons_12m                                            0\n",
       "cons_gas_12m                                        0\n",
       "cons_last_month                                     0\n",
       "date_activ                                          0\n",
       "date_end                                            2\n",
       "date_modif_prod                                   156\n",
       "date_renewal                                       40\n",
       "forecast_cons_12m                                   0\n",
       "forecast_cons_year                                  0\n",
       "forecast_discount_energy                          124\n",
       "forecast_meter_rent_12m                             0\n",
       "forecast_price_energy_p1                          124\n",
       "forecast_price_energy_p2                          124\n",
       "forecast_price_pow_p1                             124\n",
       "has_gas                                             0\n",
       "imp_cons                                            0\n",
       "margin_gross_pow_ele                               13\n",
       "margin_net_pow_ele                                 13\n",
       "nb_prod_act                                         0\n",
       "net_margin                                         15\n",
       "num_years_antig                                     0\n",
       "pow_max                                             3\n",
       "churn                                               0\n",
       "avg_price_energy                                    0\n",
       "avg_price_power                                     0\n",
       "origin_up_kamkkxfxxuwbdslkwifmmcsiusiuosws          0\n",
       "origin_up_ldkssxwpmemidmecebumciepifcamkci          0\n",
       "origin_up_lxidpiddsbxsbosboudacockeimpuepw          0\n",
       "channel_sales_ewpakwlliwisiwduibdlfmalxowmwpci      0\n",
       "channel_sales_foosdfpfkusacimwkcsosbicdxkicaua      0\n",
       "channel_sales_lmkebamcaaclubfxadlmueccxoimlema      0\n",
       "channel_sales_unknown                               0\n",
       "channel_sales_usilxuppasemubllopkaafesmlibmsdf      0\n",
       "dtype: int64"
      ]
     },
     "execution_count": 28,
     "metadata": {},
     "output_type": "execute_result"
    }
   ],
   "source": [
    "df_encoded.isnull().sum()"
   ]
  },
  {
   "cell_type": "code",
   "execution_count": 29,
   "id": "present-upper",
   "metadata": {},
   "outputs": [
    {
     "data": {
      "text/html": [
       "<div><div id=4ec05076-db1f-4f7f-92ce-4f86dace52a1 style=\"display:none; background-color:#9D6CFF; color:white; width:200px; height:30px; padding-left:5px; border-radius:4px; flex-direction:row; justify-content:space-around; align-items:center;\" onmouseover=\"this.style.backgroundColor='#BA9BF8'\" onmouseout=\"this.style.backgroundColor='#9D6CFF'\" onclick=\"window.commands?.execute('create-mitosheet-from-dataframe-output');\">See Full Dataframe in Mito</div> <script> if (window.commands.hasCommand('create-mitosheet-from-dataframe-output')) document.getElementById('4ec05076-db1f-4f7f-92ce-4f86dace52a1').style.display = 'flex' </script> <table border=\"1\" class=\"dataframe\">\n",
       "  <thead>\n",
       "    <tr style=\"text-align: right;\">\n",
       "      <th></th>\n",
       "      <th>cons_12m</th>\n",
       "      <th>cons_gas_12m</th>\n",
       "      <th>cons_last_month</th>\n",
       "      <th>date_activ</th>\n",
       "      <th>date_end</th>\n",
       "      <th>date_modif_prod</th>\n",
       "      <th>date_renewal</th>\n",
       "      <th>forecast_cons_12m</th>\n",
       "      <th>forecast_cons_year</th>\n",
       "      <th>forecast_discount_energy</th>\n",
       "      <th>...</th>\n",
       "      <th>avg_price_energy</th>\n",
       "      <th>avg_price_power</th>\n",
       "      <th>origin_up_kamkkxfxxuwbdslkwifmmcsiusiuosws</th>\n",
       "      <th>origin_up_ldkssxwpmemidmecebumciepifcamkci</th>\n",
       "      <th>origin_up_lxidpiddsbxsbosboudacockeimpuepw</th>\n",
       "      <th>channel_sales_ewpakwlliwisiwduibdlfmalxowmwpci</th>\n",
       "      <th>channel_sales_foosdfpfkusacimwkcsosbicdxkicaua</th>\n",
       "      <th>channel_sales_lmkebamcaaclubfxadlmueccxoimlema</th>\n",
       "      <th>channel_sales_unknown</th>\n",
       "      <th>channel_sales_usilxuppasemubllopkaafesmlibmsdf</th>\n",
       "    </tr>\n",
       "  </thead>\n",
       "  <tbody>\n",
       "    <tr>\n",
       "      <th>count</th>\n",
       "      <td>1.450000e+04</td>\n",
       "      <td>1.450000e+04</td>\n",
       "      <td>1.450000e+04</td>\n",
       "      <td>14500.000000</td>\n",
       "      <td>14498.000000</td>\n",
       "      <td>14368.000000</td>\n",
       "      <td>14460.000000</td>\n",
       "      <td>14500.000000</td>\n",
       "      <td>14500.000000</td>\n",
       "      <td>14421.000000</td>\n",
       "      <td>...</td>\n",
       "      <td>14500.000000</td>\n",
       "      <td>14500.000000</td>\n",
       "      <td>14500.000000</td>\n",
       "      <td>14500.000000</td>\n",
       "      <td>14500.000000</td>\n",
       "      <td>14500.000000</td>\n",
       "      <td>14500.000000</td>\n",
       "      <td>14500.000000</td>\n",
       "      <td>14500.000000</td>\n",
       "      <td>14500.000000</td>\n",
       "    </tr>\n",
       "    <tr>\n",
       "      <th>mean</th>\n",
       "      <td>2.064827e+05</td>\n",
       "      <td>3.432167e+04</td>\n",
       "      <td>2.074478e+04</td>\n",
       "      <td>2010.569592</td>\n",
       "      <td>2016.126971</td>\n",
       "      <td>2012.444403</td>\n",
       "      <td>2015.108698</td>\n",
       "      <td>2360.822402</td>\n",
       "      <td>1902.673241</td>\n",
       "      <td>0.970668</td>\n",
       "      <td>...</td>\n",
       "      <td>0.075065</td>\n",
       "      <td>20.069002</td>\n",
       "      <td>0.293241</td>\n",
       "      <td>0.230966</td>\n",
       "      <td>0.475586</td>\n",
       "      <td>0.060966</td>\n",
       "      <td>0.445103</td>\n",
       "      <td>0.134966</td>\n",
       "      <td>0.268483</td>\n",
       "      <td>0.089241</td>\n",
       "    </tr>\n",
       "    <tr>\n",
       "      <th>std</th>\n",
       "      <td>7.084792e+05</td>\n",
       "      <td>1.860815e+05</td>\n",
       "      <td>8.614340e+04</td>\n",
       "      <td>1.710167</td>\n",
       "      <td>0.243000</td>\n",
       "      <td>2.526167</td>\n",
       "      <td>0.292191</td>\n",
       "      <td>3985.154657</td>\n",
       "      <td>5001.257411</td>\n",
       "      <td>5.112158</td>\n",
       "      <td>...</td>\n",
       "      <td>0.024615</td>\n",
       "      <td>6.817817</td>\n",
       "      <td>0.455264</td>\n",
       "      <td>0.421465</td>\n",
       "      <td>0.499421</td>\n",
       "      <td>0.239275</td>\n",
       "      <td>0.496994</td>\n",
       "      <td>0.341699</td>\n",
       "      <td>0.443185</td>\n",
       "      <td>0.285102</td>\n",
       "    </tr>\n",
       "    <tr>\n",
       "      <th>min</th>\n",
       "      <td>-1.169570e+05</td>\n",
       "      <td>-3.037000e+03</td>\n",
       "      <td>-9.138600e+04</td>\n",
       "      <td>2000.070000</td>\n",
       "      <td>2006.080000</td>\n",
       "      <td>2000.070000</td>\n",
       "      <td>2013.060000</td>\n",
       "      <td>-16689.260000</td>\n",
       "      <td>-85627.000000</td>\n",
       "      <td>0.000000</td>\n",
       "      <td>...</td>\n",
       "      <td>0.000000</td>\n",
       "      <td>0.000000</td>\n",
       "      <td>0.000000</td>\n",
       "      <td>0.000000</td>\n",
       "      <td>0.000000</td>\n",
       "      <td>0.000000</td>\n",
       "      <td>0.000000</td>\n",
       "      <td>0.000000</td>\n",
       "      <td>0.000000</td>\n",
       "      <td>0.000000</td>\n",
       "    </tr>\n",
       "    <tr>\n",
       "      <th>25%</th>\n",
       "      <td>5.919500e+03</td>\n",
       "      <td>0.000000e+00</td>\n",
       "      <td>0.000000e+00</td>\n",
       "      <td>2010.010000</td>\n",
       "      <td>2016.040000</td>\n",
       "      <td>2010.070000</td>\n",
       "      <td>2015.040000</td>\n",
       "      <td>514.797500</td>\n",
       "      <td>0.000000</td>\n",
       "      <td>0.000000</td>\n",
       "      <td>...</td>\n",
       "      <td>0.049867</td>\n",
       "      <td>14.780335</td>\n",
       "      <td>0.000000</td>\n",
       "      <td>0.000000</td>\n",
       "      <td>0.000000</td>\n",
       "      <td>0.000000</td>\n",
       "      <td>0.000000</td>\n",
       "      <td>0.000000</td>\n",
       "      <td>0.000000</td>\n",
       "      <td>0.000000</td>\n",
       "    </tr>\n",
       "    <tr>\n",
       "      <th>50%</th>\n",
       "      <td>1.536600e+04</td>\n",
       "      <td>0.000000e+00</td>\n",
       "      <td>9.255000e+02</td>\n",
       "      <td>2011.020000</td>\n",
       "      <td>2016.070000</td>\n",
       "      <td>2013.040000</td>\n",
       "      <td>2015.070000</td>\n",
       "      <td>1178.970000</td>\n",
       "      <td>383.000000</td>\n",
       "      <td>0.000000</td>\n",
       "      <td>...</td>\n",
       "      <td>0.084458</td>\n",
       "      <td>14.814903</td>\n",
       "      <td>0.000000</td>\n",
       "      <td>0.000000</td>\n",
       "      <td>0.000000</td>\n",
       "      <td>0.000000</td>\n",
       "      <td>0.000000</td>\n",
       "      <td>0.000000</td>\n",
       "      <td>0.000000</td>\n",
       "      <td>0.000000</td>\n",
       "    </tr>\n",
       "    <tr>\n",
       "      <th>75%</th>\n",
       "      <td>5.066200e+04</td>\n",
       "      <td>0.000000e+00</td>\n",
       "      <td>4.209250e+03</td>\n",
       "      <td>2012.040000</td>\n",
       "      <td>2016.100000</td>\n",
       "      <td>2015.050000</td>\n",
       "      <td>2015.100000</td>\n",
       "      <td>2687.375000</td>\n",
       "      <td>2004.500000</td>\n",
       "      <td>0.000000</td>\n",
       "      <td>...</td>\n",
       "      <td>0.099359</td>\n",
       "      <td>27.098285</td>\n",
       "      <td>1.000000</td>\n",
       "      <td>0.000000</td>\n",
       "      <td>1.000000</td>\n",
       "      <td>0.000000</td>\n",
       "      <td>1.000000</td>\n",
       "      <td>0.000000</td>\n",
       "      <td>1.000000</td>\n",
       "      <td>0.000000</td>\n",
       "    </tr>\n",
       "    <tr>\n",
       "      <th>max</th>\n",
       "      <td>1.609711e+07</td>\n",
       "      <td>4.188440e+06</td>\n",
       "      <td>4.538720e+06</td>\n",
       "      <td>2014.090000</td>\n",
       "      <td>2017.060000</td>\n",
       "      <td>2016.010000</td>\n",
       "      <td>2016.010000</td>\n",
       "      <td>103801.930000</td>\n",
       "      <td>175375.000000</td>\n",
       "      <td>50.000000</td>\n",
       "      <td>...</td>\n",
       "      <td>0.148651</td>\n",
       "      <td>34.677296</td>\n",
       "      <td>1.000000</td>\n",
       "      <td>1.000000</td>\n",
       "      <td>1.000000</td>\n",
       "      <td>1.000000</td>\n",
       "      <td>1.000000</td>\n",
       "      <td>1.000000</td>\n",
       "      <td>1.000000</td>\n",
       "      <td>1.000000</td>\n",
       "    </tr>\n",
       "  </tbody>\n",
       "</table></div>"
      ],
      "text/plain": [
       "           cons_12m  cons_gas_12m  cons_last_month    date_activ  \\\n",
       "count  1.450000e+04  1.450000e+04     1.450000e+04  14500.000000   \n",
       "mean   2.064827e+05  3.432167e+04     2.074478e+04   2010.569592   \n",
       "std    7.084792e+05  1.860815e+05     8.614340e+04      1.710167   \n",
       "min   -1.169570e+05 -3.037000e+03    -9.138600e+04   2000.070000   \n",
       "25%    5.919500e+03  0.000000e+00     0.000000e+00   2010.010000   \n",
       "50%    1.536600e+04  0.000000e+00     9.255000e+02   2011.020000   \n",
       "75%    5.066200e+04  0.000000e+00     4.209250e+03   2012.040000   \n",
       "max    1.609711e+07  4.188440e+06     4.538720e+06   2014.090000   \n",
       "\n",
       "           date_end  date_modif_prod  date_renewal  forecast_cons_12m  \\\n",
       "count  14498.000000     14368.000000  14460.000000       14500.000000   \n",
       "mean    2016.126971      2012.444403   2015.108698        2360.822402   \n",
       "std        0.243000         2.526167      0.292191        3985.154657   \n",
       "min     2006.080000      2000.070000   2013.060000      -16689.260000   \n",
       "25%     2016.040000      2010.070000   2015.040000         514.797500   \n",
       "50%     2016.070000      2013.040000   2015.070000        1178.970000   \n",
       "75%     2016.100000      2015.050000   2015.100000        2687.375000   \n",
       "max     2017.060000      2016.010000   2016.010000      103801.930000   \n",
       "\n",
       "       forecast_cons_year  forecast_discount_energy  ...  avg_price_energy  \\\n",
       "count        14500.000000              14421.000000  ...      14500.000000   \n",
       "mean          1902.673241                  0.970668  ...          0.075065   \n",
       "std           5001.257411                  5.112158  ...          0.024615   \n",
       "min         -85627.000000                  0.000000  ...          0.000000   \n",
       "25%              0.000000                  0.000000  ...          0.049867   \n",
       "50%            383.000000                  0.000000  ...          0.084458   \n",
       "75%           2004.500000                  0.000000  ...          0.099359   \n",
       "max         175375.000000                 50.000000  ...          0.148651   \n",
       "\n",
       "       avg_price_power  origin_up_kamkkxfxxuwbdslkwifmmcsiusiuosws  \\\n",
       "count     14500.000000                                14500.000000   \n",
       "mean         20.069002                                    0.293241   \n",
       "std           6.817817                                    0.455264   \n",
       "min           0.000000                                    0.000000   \n",
       "25%          14.780335                                    0.000000   \n",
       "50%          14.814903                                    0.000000   \n",
       "75%          27.098285                                    1.000000   \n",
       "max          34.677296                                    1.000000   \n",
       "\n",
       "       origin_up_ldkssxwpmemidmecebumciepifcamkci  \\\n",
       "count                                14500.000000   \n",
       "mean                                     0.230966   \n",
       "std                                      0.421465   \n",
       "min                                      0.000000   \n",
       "25%                                      0.000000   \n",
       "50%                                      0.000000   \n",
       "75%                                      0.000000   \n",
       "max                                      1.000000   \n",
       "\n",
       "       origin_up_lxidpiddsbxsbosboudacockeimpuepw  \\\n",
       "count                                14500.000000   \n",
       "mean                                     0.475586   \n",
       "std                                      0.499421   \n",
       "min                                      0.000000   \n",
       "25%                                      0.000000   \n",
       "50%                                      0.000000   \n",
       "75%                                      1.000000   \n",
       "max                                      1.000000   \n",
       "\n",
       "       channel_sales_ewpakwlliwisiwduibdlfmalxowmwpci  \\\n",
       "count                                    14500.000000   \n",
       "mean                                         0.060966   \n",
       "std                                          0.239275   \n",
       "min                                          0.000000   \n",
       "25%                                          0.000000   \n",
       "50%                                          0.000000   \n",
       "75%                                          0.000000   \n",
       "max                                          1.000000   \n",
       "\n",
       "       channel_sales_foosdfpfkusacimwkcsosbicdxkicaua  \\\n",
       "count                                    14500.000000   \n",
       "mean                                         0.445103   \n",
       "std                                          0.496994   \n",
       "min                                          0.000000   \n",
       "25%                                          0.000000   \n",
       "50%                                          0.000000   \n",
       "75%                                          1.000000   \n",
       "max                                          1.000000   \n",
       "\n",
       "       channel_sales_lmkebamcaaclubfxadlmueccxoimlema  channel_sales_unknown  \\\n",
       "count                                    14500.000000           14500.000000   \n",
       "mean                                         0.134966               0.268483   \n",
       "std                                          0.341699               0.443185   \n",
       "min                                          0.000000               0.000000   \n",
       "25%                                          0.000000               0.000000   \n",
       "50%                                          0.000000               0.000000   \n",
       "75%                                          0.000000               1.000000   \n",
       "max                                          1.000000               1.000000   \n",
       "\n",
       "       channel_sales_usilxuppasemubllopkaafesmlibmsdf  \n",
       "count                                    14500.000000  \n",
       "mean                                         0.089241  \n",
       "std                                          0.285102  \n",
       "min                                          0.000000  \n",
       "25%                                          0.000000  \n",
       "50%                                          0.000000  \n",
       "75%                                          0.000000  \n",
       "max                                          1.000000  \n",
       "\n",
       "[8 rows x 33 columns]"
      ]
     },
     "execution_count": 29,
     "metadata": {},
     "output_type": "execute_result"
    }
   ],
   "source": [
    "df_encoded[df_encoded.churn==0].describe()"
   ]
  },
  {
   "cell_type": "code",
   "execution_count": 30,
   "id": "intelligent-defense",
   "metadata": {},
   "outputs": [
    {
     "data": {
      "text/html": [
       "<div><div id=3f80769f-f64d-4f61-a920-b8eecd6fc070 style=\"display:none; background-color:#9D6CFF; color:white; width:200px; height:30px; padding-left:5px; border-radius:4px; flex-direction:row; justify-content:space-around; align-items:center;\" onmouseover=\"this.style.backgroundColor='#BA9BF8'\" onmouseout=\"this.style.backgroundColor='#9D6CFF'\" onclick=\"window.commands?.execute('create-mitosheet-from-dataframe-output');\">See Full Dataframe in Mito</div> <script> if (window.commands.hasCommand('create-mitosheet-from-dataframe-output')) document.getElementById('3f80769f-f64d-4f61-a920-b8eecd6fc070').style.display = 'flex' </script> <table border=\"1\" class=\"dataframe\">\n",
       "  <thead>\n",
       "    <tr style=\"text-align: right;\">\n",
       "      <th></th>\n",
       "      <th>cons_12m</th>\n",
       "      <th>cons_gas_12m</th>\n",
       "      <th>cons_last_month</th>\n",
       "      <th>date_activ</th>\n",
       "      <th>date_end</th>\n",
       "      <th>date_modif_prod</th>\n",
       "      <th>date_renewal</th>\n",
       "      <th>forecast_cons_12m</th>\n",
       "      <th>forecast_cons_year</th>\n",
       "      <th>forecast_discount_energy</th>\n",
       "      <th>...</th>\n",
       "      <th>avg_price_energy</th>\n",
       "      <th>avg_price_power</th>\n",
       "      <th>origin_up_kamkkxfxxuwbdslkwifmmcsiusiuosws</th>\n",
       "      <th>origin_up_ldkssxwpmemidmecebumciepifcamkci</th>\n",
       "      <th>origin_up_lxidpiddsbxsbosboudacockeimpuepw</th>\n",
       "      <th>channel_sales_ewpakwlliwisiwduibdlfmalxowmwpci</th>\n",
       "      <th>channel_sales_foosdfpfkusacimwkcsosbicdxkicaua</th>\n",
       "      <th>channel_sales_lmkebamcaaclubfxadlmueccxoimlema</th>\n",
       "      <th>channel_sales_unknown</th>\n",
       "      <th>channel_sales_usilxuppasemubllopkaafesmlibmsdf</th>\n",
       "    </tr>\n",
       "  </thead>\n",
       "  <tbody>\n",
       "    <tr>\n",
       "      <th>count</th>\n",
       "      <td>1.594000e+03</td>\n",
       "      <td>1594.000000</td>\n",
       "      <td>1594.000000</td>\n",
       "      <td>1594.000000</td>\n",
       "      <td>1594.000000</td>\n",
       "      <td>1570.000000</td>\n",
       "      <td>1594.000000</td>\n",
       "      <td>1594.000000</td>\n",
       "      <td>1594.000000</td>\n",
       "      <td>1549.000000</td>\n",
       "      <td>...</td>\n",
       "      <td>1594.000000</td>\n",
       "      <td>1594.000000</td>\n",
       "      <td>1594.000000</td>\n",
       "      <td>1594.000000</td>\n",
       "      <td>1594.000000</td>\n",
       "      <td>1594.000000</td>\n",
       "      <td>1594.000000</td>\n",
       "      <td>1594.000000</td>\n",
       "      <td>1594.000000</td>\n",
       "      <td>1594.000000</td>\n",
       "    </tr>\n",
       "    <tr>\n",
       "      <th>mean</th>\n",
       "      <td>8.881104e+04</td>\n",
       "      <td>10028.495609</td>\n",
       "      <td>7812.744040</td>\n",
       "      <td>2010.994479</td>\n",
       "      <td>2016.134034</td>\n",
       "      <td>2012.871783</td>\n",
       "      <td>2015.116186</td>\n",
       "      <td>2462.072597</td>\n",
       "      <td>1952.257842</td>\n",
       "      <td>1.185926</td>\n",
       "      <td>...</td>\n",
       "      <td>0.078039</td>\n",
       "      <td>20.955504</td>\n",
       "      <td>0.166248</td>\n",
       "      <td>0.196989</td>\n",
       "      <td>0.636763</td>\n",
       "      <td>0.051443</td>\n",
       "      <td>0.578419</td>\n",
       "      <td>0.072773</td>\n",
       "      <td>0.203262</td>\n",
       "      <td>0.094103</td>\n",
       "    </tr>\n",
       "    <tr>\n",
       "      <th>std</th>\n",
       "      <td>2.901282e+05</td>\n",
       "      <td>54328.546490</td>\n",
       "      <td>28927.862111</td>\n",
       "      <td>1.650324</td>\n",
       "      <td>0.240659</td>\n",
       "      <td>2.313743</td>\n",
       "      <td>0.281381</td>\n",
       "      <td>4465.549633</td>\n",
       "      <td>7183.182636</td>\n",
       "      <td>5.593027</td>\n",
       "      <td>...</td>\n",
       "      <td>0.024195</td>\n",
       "      <td>6.576435</td>\n",
       "      <td>0.372420</td>\n",
       "      <td>0.397849</td>\n",
       "      <td>0.481083</td>\n",
       "      <td>0.220969</td>\n",
       "      <td>0.493967</td>\n",
       "      <td>0.259845</td>\n",
       "      <td>0.402552</td>\n",
       "      <td>0.292063</td>\n",
       "    </tr>\n",
       "    <tr>\n",
       "      <th>min</th>\n",
       "      <td>-1.252760e+05</td>\n",
       "      <td>-617.000000</td>\n",
       "      <td>-11825.000000</td>\n",
       "      <td>2003.060000</td>\n",
       "      <td>2016.010000</td>\n",
       "      <td>2003.060000</td>\n",
       "      <td>2013.100000</td>\n",
       "      <td>-10037.370000</td>\n",
       "      <td>-19057.000000</td>\n",
       "      <td>0.000000</td>\n",
       "      <td>...</td>\n",
       "      <td>0.036473</td>\n",
       "      <td>12.105123</td>\n",
       "      <td>0.000000</td>\n",
       "      <td>0.000000</td>\n",
       "      <td>0.000000</td>\n",
       "      <td>0.000000</td>\n",
       "      <td>0.000000</td>\n",
       "      <td>0.000000</td>\n",
       "      <td>0.000000</td>\n",
       "      <td>0.000000</td>\n",
       "    </tr>\n",
       "    <tr>\n",
       "      <th>25%</th>\n",
       "      <td>5.840250e+03</td>\n",
       "      <td>0.000000</td>\n",
       "      <td>0.000000</td>\n",
       "      <td>2010.050000</td>\n",
       "      <td>2016.040000</td>\n",
       "      <td>2011.090000</td>\n",
       "      <td>2015.040000</td>\n",
       "      <td>501.995000</td>\n",
       "      <td>0.000000</td>\n",
       "      <td>0.000000</td>\n",
       "      <td>...</td>\n",
       "      <td>0.049913</td>\n",
       "      <td>14.785273</td>\n",
       "      <td>0.000000</td>\n",
       "      <td>0.000000</td>\n",
       "      <td>0.000000</td>\n",
       "      <td>0.000000</td>\n",
       "      <td>0.000000</td>\n",
       "      <td>0.000000</td>\n",
       "      <td>0.000000</td>\n",
       "      <td>0.000000</td>\n",
       "    </tr>\n",
       "    <tr>\n",
       "      <th>50%</th>\n",
       "      <td>1.513500e+04</td>\n",
       "      <td>0.000000</td>\n",
       "      <td>748.500000</td>\n",
       "      <td>2011.110000</td>\n",
       "      <td>2016.070000</td>\n",
       "      <td>2013.110000</td>\n",
       "      <td>2015.070000</td>\n",
       "      <td>1189.135000</td>\n",
       "      <td>347.500000</td>\n",
       "      <td>0.000000</td>\n",
       "      <td>...</td>\n",
       "      <td>0.085722</td>\n",
       "      <td>15.204245</td>\n",
       "      <td>0.000000</td>\n",
       "      <td>0.000000</td>\n",
       "      <td>1.000000</td>\n",
       "      <td>0.000000</td>\n",
       "      <td>1.000000</td>\n",
       "      <td>0.000000</td>\n",
       "      <td>0.000000</td>\n",
       "      <td>0.000000</td>\n",
       "    </tr>\n",
       "    <tr>\n",
       "      <th>75%</th>\n",
       "      <td>4.626125e+04</td>\n",
       "      <td>0.000000</td>\n",
       "      <td>3477.000000</td>\n",
       "      <td>2012.070000</td>\n",
       "      <td>2016.100000</td>\n",
       "      <td>2015.050000</td>\n",
       "      <td>2015.100000</td>\n",
       "      <td>2761.282500</td>\n",
       "      <td>1916.250000</td>\n",
       "      <td>0.000000</td>\n",
       "      <td>...</td>\n",
       "      <td>0.100129</td>\n",
       "      <td>27.107336</td>\n",
       "      <td>0.000000</td>\n",
       "      <td>0.000000</td>\n",
       "      <td>1.000000</td>\n",
       "      <td>0.000000</td>\n",
       "      <td>1.000000</td>\n",
       "      <td>0.000000</td>\n",
       "      <td>0.000000</td>\n",
       "      <td>0.000000</td>\n",
       "    </tr>\n",
       "    <tr>\n",
       "      <th>max</th>\n",
       "      <td>4.012564e+06</td>\n",
       "      <td>828344.000000</td>\n",
       "      <td>469898.000000</td>\n",
       "      <td>2013.110000</td>\n",
       "      <td>2017.010000</td>\n",
       "      <td>2016.010000</td>\n",
       "      <td>2016.010000</td>\n",
       "      <td>66521.260000</td>\n",
       "      <td>155432.000000</td>\n",
       "      <td>30.000000</td>\n",
       "      <td>...</td>\n",
       "      <td>0.138830</td>\n",
       "      <td>34.677296</td>\n",
       "      <td>1.000000</td>\n",
       "      <td>1.000000</td>\n",
       "      <td>1.000000</td>\n",
       "      <td>1.000000</td>\n",
       "      <td>1.000000</td>\n",
       "      <td>1.000000</td>\n",
       "      <td>1.000000</td>\n",
       "      <td>1.000000</td>\n",
       "    </tr>\n",
       "  </tbody>\n",
       "</table></div>"
      ],
      "text/plain": [
       "           cons_12m   cons_gas_12m  cons_last_month   date_activ     date_end  \\\n",
       "count  1.594000e+03    1594.000000      1594.000000  1594.000000  1594.000000   \n",
       "mean   8.881104e+04   10028.495609      7812.744040  2010.994479  2016.134034   \n",
       "std    2.901282e+05   54328.546490     28927.862111     1.650324     0.240659   \n",
       "min   -1.252760e+05    -617.000000    -11825.000000  2003.060000  2016.010000   \n",
       "25%    5.840250e+03       0.000000         0.000000  2010.050000  2016.040000   \n",
       "50%    1.513500e+04       0.000000       748.500000  2011.110000  2016.070000   \n",
       "75%    4.626125e+04       0.000000      3477.000000  2012.070000  2016.100000   \n",
       "max    4.012564e+06  828344.000000    469898.000000  2013.110000  2017.010000   \n",
       "\n",
       "       date_modif_prod  date_renewal  forecast_cons_12m  forecast_cons_year  \\\n",
       "count      1570.000000   1594.000000        1594.000000         1594.000000   \n",
       "mean       2012.871783   2015.116186        2462.072597         1952.257842   \n",
       "std           2.313743      0.281381        4465.549633         7183.182636   \n",
       "min        2003.060000   2013.100000      -10037.370000       -19057.000000   \n",
       "25%        2011.090000   2015.040000         501.995000            0.000000   \n",
       "50%        2013.110000   2015.070000        1189.135000          347.500000   \n",
       "75%        2015.050000   2015.100000        2761.282500         1916.250000   \n",
       "max        2016.010000   2016.010000       66521.260000       155432.000000   \n",
       "\n",
       "       forecast_discount_energy  ...  avg_price_energy  avg_price_power  \\\n",
       "count               1549.000000  ...       1594.000000      1594.000000   \n",
       "mean                   1.185926  ...          0.078039        20.955504   \n",
       "std                    5.593027  ...          0.024195         6.576435   \n",
       "min                    0.000000  ...          0.036473        12.105123   \n",
       "25%                    0.000000  ...          0.049913        14.785273   \n",
       "50%                    0.000000  ...          0.085722        15.204245   \n",
       "75%                    0.000000  ...          0.100129        27.107336   \n",
       "max                   30.000000  ...          0.138830        34.677296   \n",
       "\n",
       "       origin_up_kamkkxfxxuwbdslkwifmmcsiusiuosws  \\\n",
       "count                                 1594.000000   \n",
       "mean                                     0.166248   \n",
       "std                                      0.372420   \n",
       "min                                      0.000000   \n",
       "25%                                      0.000000   \n",
       "50%                                      0.000000   \n",
       "75%                                      0.000000   \n",
       "max                                      1.000000   \n",
       "\n",
       "       origin_up_ldkssxwpmemidmecebumciepifcamkci  \\\n",
       "count                                 1594.000000   \n",
       "mean                                     0.196989   \n",
       "std                                      0.397849   \n",
       "min                                      0.000000   \n",
       "25%                                      0.000000   \n",
       "50%                                      0.000000   \n",
       "75%                                      0.000000   \n",
       "max                                      1.000000   \n",
       "\n",
       "       origin_up_lxidpiddsbxsbosboudacockeimpuepw  \\\n",
       "count                                 1594.000000   \n",
       "mean                                     0.636763   \n",
       "std                                      0.481083   \n",
       "min                                      0.000000   \n",
       "25%                                      0.000000   \n",
       "50%                                      1.000000   \n",
       "75%                                      1.000000   \n",
       "max                                      1.000000   \n",
       "\n",
       "       channel_sales_ewpakwlliwisiwduibdlfmalxowmwpci  \\\n",
       "count                                     1594.000000   \n",
       "mean                                         0.051443   \n",
       "std                                          0.220969   \n",
       "min                                          0.000000   \n",
       "25%                                          0.000000   \n",
       "50%                                          0.000000   \n",
       "75%                                          0.000000   \n",
       "max                                          1.000000   \n",
       "\n",
       "       channel_sales_foosdfpfkusacimwkcsosbicdxkicaua  \\\n",
       "count                                     1594.000000   \n",
       "mean                                         0.578419   \n",
       "std                                          0.493967   \n",
       "min                                          0.000000   \n",
       "25%                                          0.000000   \n",
       "50%                                          1.000000   \n",
       "75%                                          1.000000   \n",
       "max                                          1.000000   \n",
       "\n",
       "       channel_sales_lmkebamcaaclubfxadlmueccxoimlema  channel_sales_unknown  \\\n",
       "count                                     1594.000000            1594.000000   \n",
       "mean                                         0.072773               0.203262   \n",
       "std                                          0.259845               0.402552   \n",
       "min                                          0.000000               0.000000   \n",
       "25%                                          0.000000               0.000000   \n",
       "50%                                          0.000000               0.000000   \n",
       "75%                                          0.000000               0.000000   \n",
       "max                                          1.000000               1.000000   \n",
       "\n",
       "       channel_sales_usilxuppasemubllopkaafesmlibmsdf  \n",
       "count                                     1594.000000  \n",
       "mean                                         0.094103  \n",
       "std                                          0.292063  \n",
       "min                                          0.000000  \n",
       "25%                                          0.000000  \n",
       "50%                                          0.000000  \n",
       "75%                                          0.000000  \n",
       "max                                          1.000000  \n",
       "\n",
       "[8 rows x 33 columns]"
      ]
     },
     "execution_count": 30,
     "metadata": {},
     "output_type": "execute_result"
    }
   ],
   "source": [
    "df_encoded[df_encoded.churn==1].describe()"
   ]
  },
  {
   "cell_type": "markdown",
   "id": "specific-whale",
   "metadata": {},
   "source": [
    "## We can see difference between median() values for 'date...' columns where churn is 0 and 1, therefore I will replace null values in 'date...' columns based on churn value of that row."
   ]
  },
  {
   "cell_type": "code",
   "execution_count": 31,
   "id": "simple-captain",
   "metadata": {},
   "outputs": [],
   "source": [
    "df_encoded.date_end.fillna(df_encoded.date_end.median(),inplace=True)"
   ]
  },
  {
   "cell_type": "code",
   "execution_count": 32,
   "id": "discrete-buffer",
   "metadata": {},
   "outputs": [
    {
     "name": "stderr",
     "output_type": "stream",
     "text": [
      "c:\\users\\91709\\appdata\\local\\programs\\python\\python39\\lib\\site-packages\\pandas\\core\\indexing.py:1637: SettingWithCopyWarning: \n",
      "A value is trying to be set on a copy of a slice from a DataFrame\n",
      "\n",
      "See the caveats in the documentation: https://pandas.pydata.org/pandas-docs/stable/user_guide/indexing.html#returning-a-view-versus-a-copy\n",
      "  self._setitem_single_block(indexer, value, name)\n"
     ]
    }
   ],
   "source": [
    "df_encoded.date_modif_prod.loc[(df_encoded.date_modif_prod.isnull())&(\n",
    "    df_encoded.churn==1)]=df_encoded.date_modif_prod.loc[(df_encoded.churn==1)].median()"
   ]
  },
  {
   "cell_type": "code",
   "execution_count": 33,
   "id": "instant-instruction",
   "metadata": {},
   "outputs": [
    {
     "name": "stderr",
     "output_type": "stream",
     "text": [
      "c:\\users\\91709\\appdata\\local\\programs\\python\\python39\\lib\\site-packages\\pandas\\core\\indexing.py:1637: SettingWithCopyWarning: \n",
      "A value is trying to be set on a copy of a slice from a DataFrame\n",
      "\n",
      "See the caveats in the documentation: https://pandas.pydata.org/pandas-docs/stable/user_guide/indexing.html#returning-a-view-versus-a-copy\n",
      "  self._setitem_single_block(indexer, value, name)\n"
     ]
    }
   ],
   "source": [
    "df_encoded.date_modif_prod.loc[(df_encoded.date_modif_prod.isnull())&(\n",
    "    df_encoded.churn==0)]=df_encoded.date_modif_prod.loc[(df_encoded.churn==0)].median()"
   ]
  },
  {
   "cell_type": "code",
   "execution_count": 34,
   "id": "coated-recording",
   "metadata": {},
   "outputs": [
    {
     "data": {
      "text/plain": [
       "0"
      ]
     },
     "execution_count": 34,
     "metadata": {},
     "output_type": "execute_result"
    }
   ],
   "source": [
    "df_encoded.date_modif_prod.isnull().sum()"
   ]
  },
  {
   "cell_type": "code",
   "execution_count": 35,
   "id": "worldwide-genetics",
   "metadata": {},
   "outputs": [
    {
     "name": "stderr",
     "output_type": "stream",
     "text": [
      "c:\\users\\91709\\appdata\\local\\programs\\python\\python39\\lib\\site-packages\\pandas\\core\\indexing.py:1637: SettingWithCopyWarning: \n",
      "A value is trying to be set on a copy of a slice from a DataFrame\n",
      "\n",
      "See the caveats in the documentation: https://pandas.pydata.org/pandas-docs/stable/user_guide/indexing.html#returning-a-view-versus-a-copy\n",
      "  self._setitem_single_block(indexer, value, name)\n",
      "c:\\users\\91709\\appdata\\local\\programs\\python\\python39\\lib\\site-packages\\pandas\\core\\indexing.py:1637: SettingWithCopyWarning: \n",
      "A value is trying to be set on a copy of a slice from a DataFrame\n",
      "\n",
      "See the caveats in the documentation: https://pandas.pydata.org/pandas-docs/stable/user_guide/indexing.html#returning-a-view-versus-a-copy\n",
      "  self._setitem_single_block(indexer, value, name)\n"
     ]
    }
   ],
   "source": [
    "df_encoded.date_renewal.loc[(df_encoded.date_renewal.isnull())&(\n",
    "    df_encoded.churn==1)]=df_encoded.date_renewal.loc[(df_encoded.churn==1)].median()\n",
    "df_encoded.date_renewal.loc[(df_encoded.date_renewal.isnull())&(\n",
    "    df_encoded.churn==0)]=df_encoded.date_renewal.loc[(df_encoded.churn==0)].median()"
   ]
  },
  {
   "cell_type": "code",
   "execution_count": 36,
   "id": "third-spyware",
   "metadata": {},
   "outputs": [
    {
     "data": {
      "text/plain": [
       "0"
      ]
     },
     "execution_count": 36,
     "metadata": {},
     "output_type": "execute_result"
    }
   ],
   "source": [
    "df_encoded.date_renewal.isnull().sum()"
   ]
  },
  {
   "cell_type": "code",
   "execution_count": 37,
   "id": "informative-april",
   "metadata": {},
   "outputs": [
    {
     "data": {
      "text/plain": [
       "id                                                  0\n",
       "cons_12m                                            0\n",
       "cons_gas_12m                                        0\n",
       "cons_last_month                                     0\n",
       "date_activ                                          0\n",
       "date_end                                            0\n",
       "date_modif_prod                                     0\n",
       "date_renewal                                        0\n",
       "forecast_cons_12m                                   0\n",
       "forecast_cons_year                                  0\n",
       "forecast_discount_energy                          124\n",
       "forecast_meter_rent_12m                             0\n",
       "forecast_price_energy_p1                          124\n",
       "forecast_price_energy_p2                          124\n",
       "forecast_price_pow_p1                             124\n",
       "has_gas                                             0\n",
       "imp_cons                                            0\n",
       "margin_gross_pow_ele                               13\n",
       "margin_net_pow_ele                                 13\n",
       "nb_prod_act                                         0\n",
       "net_margin                                         15\n",
       "num_years_antig                                     0\n",
       "pow_max                                             3\n",
       "churn                                               0\n",
       "avg_price_energy                                    0\n",
       "avg_price_power                                     0\n",
       "origin_up_kamkkxfxxuwbdslkwifmmcsiusiuosws          0\n",
       "origin_up_ldkssxwpmemidmecebumciepifcamkci          0\n",
       "origin_up_lxidpiddsbxsbosboudacockeimpuepw          0\n",
       "channel_sales_ewpakwlliwisiwduibdlfmalxowmwpci      0\n",
       "channel_sales_foosdfpfkusacimwkcsosbicdxkicaua      0\n",
       "channel_sales_lmkebamcaaclubfxadlmueccxoimlema      0\n",
       "channel_sales_unknown                               0\n",
       "channel_sales_usilxuppasemubllopkaafesmlibmsdf      0\n",
       "dtype: int64"
      ]
     },
     "execution_count": 37,
     "metadata": {},
     "output_type": "execute_result"
    }
   ],
   "source": [
    "df_encoded.isnull().sum()"
   ]
  },
  {
   "cell_type": "markdown",
   "id": "shared-yacht",
   "metadata": {},
   "source": [
    "## Now replacing null values in other columns with mean() values, as there are very few null values."
   ]
  },
  {
   "cell_type": "code",
   "execution_count": 38,
   "id": "ultimate-thanksgiving",
   "metadata": {},
   "outputs": [
    {
     "data": {
      "text/plain": [
       "<AxesSubplot:xlabel='churn', ylabel='forecast_discount_energy'>"
      ]
     },
     "execution_count": 38,
     "metadata": {},
     "output_type": "execute_result"
    },
    {
     "data": {
      "image/png": "[encoded data removed]",
      "text/plain": [
       "<Figure size 432x288 with 1 Axes>"
      ]
     },
     "metadata": {
      "needs_background": "light"
     },
     "output_type": "display_data"
    }
   ],
   "source": [
    "sns.boxplot(x='churn',y='forecast_discount_energy',data=df_encoded)"
   ]
  },
  {
   "cell_type": "code",
   "execution_count": 39,
   "id": "express-humanity",
   "metadata": {},
   "outputs": [
    {
     "name": "stderr",
     "output_type": "stream",
     "text": [
      "c:\\users\\91709\\appdata\\local\\programs\\python\\python39\\lib\\site-packages\\pandas\\core\\indexing.py:1637: SettingWithCopyWarning: \n",
      "A value is trying to be set on a copy of a slice from a DataFrame\n",
      "\n",
      "See the caveats in the documentation: https://pandas.pydata.org/pandas-docs/stable/user_guide/indexing.html#returning-a-view-versus-a-copy\n",
      "  self._setitem_single_block(indexer, value, name)\n"
     ]
    }
   ],
   "source": [
    "df_encoded.forecast_discount_energy.loc[df_encoded.forecast_discount_energy.isnull()]=0"
   ]
  },
  {
   "cell_type": "code",
   "execution_count": 40,
   "id": "aquatic-provider",
   "metadata": {},
   "outputs": [
    {
     "data": {
      "text/plain": [
       "<AxesSubplot:xlabel='churn', ylabel='forecast_price_energy_p1'>"
      ]
     },
     "execution_count": 40,
     "metadata": {},
     "output_type": "execute_result"
    },
    {
     "data": {
      "image/png": "[encoded data removed]",
      "text/plain": [
       "<Figure size 432x288 with 1 Axes>"
      ]
     },
     "metadata": {
      "needs_background": "light"
     },
     "output_type": "display_data"
    }
   ],
   "source": [
    "sns.boxplot(x='churn',y='forecast_price_energy_p1',data=df_encoded)"
   ]
  },
  {
   "cell_type": "code",
   "execution_count": 41,
   "id": "italic-vector",
   "metadata": {},
   "outputs": [],
   "source": [
    "df_encoded.forecast_price_energy_p1.fillna(df_encoded.forecast_price_energy_p1.median(),inplace=True)"
   ]
  },
  {
   "cell_type": "code",
   "execution_count": 42,
   "id": "demanding-technical",
   "metadata": {},
   "outputs": [
    {
     "data": {
      "text/plain": [
       "<AxesSubplot:xlabel='churn', ylabel='forecast_price_energy_p2'>"
      ]
     },
     "execution_count": 42,
     "metadata": {},
     "output_type": "execute_result"
    },
    {
     "data": {
      "image/png": "[encoded data removed]",
      "text/plain": [
       "<Figure size 432x288 with 1 Axes>"
      ]
     },
     "metadata": {
      "needs_background": "light"
     },
     "output_type": "display_data"
    }
   ],
   "source": [
    "sns.boxplot(x='churn',y='forecast_price_energy_p2',data=df_encoded)"
   ]
  },
  {
   "cell_type": "code",
   "execution_count": 43,
   "id": "regulation-rescue",
   "metadata": {},
   "outputs": [],
   "source": [
    "df_encoded.forecast_price_energy_p2.fillna(df_encoded.forecast_price_energy_p2.median(),inplace=True)"
   ]
  },
  {
   "cell_type": "code",
   "execution_count": 44,
   "id": "nuclear-drunk",
   "metadata": {},
   "outputs": [
    {
     "data": {
      "text/plain": [
       "<AxesSubplot:xlabel='churn', ylabel='forecast_price_pow_p1'>"
      ]
     },
     "execution_count": 44,
     "metadata": {},
     "output_type": "execute_result"
    },
    {
     "data": {
      "image/png": "[encoded data removed]",
      "text/plain": [
       "<Figure size 432x288 with 1 Axes>"
      ]
     },
     "metadata": {
      "needs_background": "light"
     },
     "output_type": "display_data"
    }
   ],
   "source": [
    "sns.boxplot(x='churn',y='forecast_price_pow_p1',data=df_encoded)"
   ]
  },
  {
   "cell_type": "code",
   "execution_count": 45,
   "id": "adjusted-wagner",
   "metadata": {},
   "outputs": [],
   "source": [
    "df_encoded.forecast_price_pow_p1.fillna(df_encoded.forecast_price_pow_p1.median(),inplace=True)"
   ]
  },
  {
   "cell_type": "code",
   "execution_count": 46,
   "id": "cooked-velvet",
   "metadata": {},
   "outputs": [
    {
     "data": {
      "text/plain": [
       "<AxesSubplot:xlabel='churn', ylabel='margin_gross_pow_ele'>"
      ]
     },
     "execution_count": 46,
     "metadata": {},
     "output_type": "execute_result"
    },
    {
     "data": {
      "image/png": "[encoded data removed]",
      "text/plain": [
       "<Figure size 432x288 with 1 Axes>"
      ]
     },
     "metadata": {
      "needs_background": "light"
     },
     "output_type": "display_data"
    }
   ],
   "source": [
    "sns.boxplot(x='churn',y='margin_gross_pow_ele',data=df_encoded)"
   ]
  },
  {
   "cell_type": "code",
   "execution_count": 47,
   "id": "hydraulic-wayne",
   "metadata": {},
   "outputs": [
    {
     "data": {
      "text/plain": [
       "<AxesSubplot:xlabel='churn', ylabel='margin_net_pow_ele'>"
      ]
     },
     "execution_count": 47,
     "metadata": {},
     "output_type": "execute_result"
    },
    {
     "data": {
      "image/png": "[encoded data removed]",
      "text/plain": [
       "<Figure size 432x288 with 1 Axes>"
      ]
     },
     "metadata": {
      "needs_background": "light"
     },
     "output_type": "display_data"
    }
   ],
   "source": [
    "sns.boxplot(x='churn',y='margin_net_pow_ele',data=df_encoded)"
   ]
  },
  {
   "cell_type": "code",
   "execution_count": 48,
   "id": "equipped-pottery",
   "metadata": {},
   "outputs": [
    {
     "data": {
      "text/plain": [
       "<AxesSubplot:xlabel='churn', ylabel='net_margin'>"
      ]
     },
     "execution_count": 48,
     "metadata": {},
     "output_type": "execute_result"
    },
    {
     "data": {
      "image/png": "[encoded data removed]",
      "text/plain": [
       "<Figure size 432x288 with 1 Axes>"
      ]
     },
     "metadata": {
      "needs_background": "light"
     },
     "output_type": "display_data"
    }
   ],
   "source": [
    "sns.boxplot(x='churn',y='net_margin',data=df_encoded)"
   ]
  },
  {
   "cell_type": "code",
   "execution_count": 49,
   "id": "native-wrapping",
   "metadata": {},
   "outputs": [
    {
     "data": {
      "text/plain": [
       "<AxesSubplot:xlabel='churn', ylabel='pow_max'>"
      ]
     },
     "execution_count": 49,
     "metadata": {},
     "output_type": "execute_result"
    },
    {
     "data": {
      "image/png": "[encoded data removed]",
      "text/plain": [
       "<Figure size 432x288 with 1 Axes>"
      ]
     },
     "metadata": {
      "needs_background": "light"
     },
     "output_type": "display_data"
    }
   ],
   "source": [
    "sns.boxplot(x='churn',y='pow_max',data=df_encoded)"
   ]
  },
  {
   "cell_type": "code",
   "execution_count": 50,
   "id": "serial-internet",
   "metadata": {},
   "outputs": [],
   "source": [
    "df_encoded.pow_max.fillna(df_encoded.pow_max.median(),inplace=True)\n",
    "df_encoded.net_margin.fillna(df_encoded.net_margin.median(),inplace=True)\n",
    "df_encoded.margin_net_pow_ele.fillna(df_encoded.margin_net_pow_ele.median(),inplace=True)\n",
    "df_encoded.margin_gross_pow_ele.fillna(df_encoded.margin_gross_pow_ele.median(),inplace=True)"
   ]
  },
  {
   "cell_type": "code",
   "execution_count": 51,
   "id": "parental-triangle",
   "metadata": {},
   "outputs": [
    {
     "data": {
      "text/plain": [
       "0"
      ]
     },
     "execution_count": 51,
     "metadata": {},
     "output_type": "execute_result"
    }
   ],
   "source": [
    "df_encoded.isnull().sum().sum()"
   ]
  },
  {
   "cell_type": "code",
   "execution_count": 52,
   "id": "appointed-transcript",
   "metadata": {},
   "outputs": [],
   "source": [
    "df_encoded.to_csv('cleaned_data_for_ml_modelling.csv')"
   ]
  }
 ],
 "metadata": {
  "kernelspec": {
   "display_name": "Python 3",
   "language": "python",
   "name": "python3"
  },
  "language_info": {
   "codemirror_mode": {
    "name": "ipython",
    "version": 3
   },
   "file_extension": ".py",
   "mimetype": "text/x-python",
   "name": "python",
   "nbconvert_exporter": "python",
   "pygments_lexer": "ipython3",
   "version": "3.9.0"
  }
 },
 "nbformat": 4,
 "nbformat_minor": 5
}
